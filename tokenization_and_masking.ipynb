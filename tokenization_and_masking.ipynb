{
  "nbformat": 4,
  "nbformat_minor": 0,
  "metadata": {
    "colab": {
      "provenance": []
    },
    "kernelspec": {
      "name": "python3",
      "display_name": "Python 3"
    },
    "language_info": {
      "name": "python"
    }
  },
  "cells": [
    {
      "cell_type": "code",
      "source": [
        "pip install transformers"
      ],
      "metadata": {
        "colab": {
          "base_uri": "https://localhost:8080/"
        },
        "id": "lR7Xd2_LAZR3",
        "outputId": "1224ceac-5714-4d87-e673-4eedbebca128"
      },
      "execution_count": null,
      "outputs": [
        {
          "output_type": "stream",
          "name": "stdout",
          "text": [
            "Requirement already satisfied: transformers in /usr/local/lib/python3.10/dist-packages (4.35.2)\n",
            "Requirement already satisfied: filelock in /usr/local/lib/python3.10/dist-packages (from transformers) (3.13.1)\n",
            "Requirement already satisfied: huggingface-hub<1.0,>=0.16.4 in /usr/local/lib/python3.10/dist-packages (from transformers) (0.19.3)\n",
            "Requirement already satisfied: numpy>=1.17 in /usr/local/lib/python3.10/dist-packages (from transformers) (1.23.5)\n",
            "Requirement already satisfied: packaging>=20.0 in /usr/local/lib/python3.10/dist-packages (from transformers) (23.2)\n",
            "Requirement already satisfied: pyyaml>=5.1 in /usr/local/lib/python3.10/dist-packages (from transformers) (6.0.1)\n",
            "Requirement already satisfied: regex!=2019.12.17 in /usr/local/lib/python3.10/dist-packages (from transformers) (2023.6.3)\n",
            "Requirement already satisfied: requests in /usr/local/lib/python3.10/dist-packages (from transformers) (2.31.0)\n",
            "Requirement already satisfied: tokenizers<0.19,>=0.14 in /usr/local/lib/python3.10/dist-packages (from transformers) (0.15.0)\n",
            "Requirement already satisfied: safetensors>=0.3.1 in /usr/local/lib/python3.10/dist-packages (from transformers) (0.4.0)\n",
            "Requirement already satisfied: tqdm>=4.27 in /usr/local/lib/python3.10/dist-packages (from transformers) (4.66.1)\n",
            "Requirement already satisfied: fsspec>=2023.5.0 in /usr/local/lib/python3.10/dist-packages (from huggingface-hub<1.0,>=0.16.4->transformers) (2023.6.0)\n",
            "Requirement already satisfied: typing-extensions>=3.7.4.3 in /usr/local/lib/python3.10/dist-packages (from huggingface-hub<1.0,>=0.16.4->transformers) (4.5.0)\n",
            "Requirement already satisfied: charset-normalizer<4,>=2 in /usr/local/lib/python3.10/dist-packages (from requests->transformers) (3.3.2)\n",
            "Requirement already satisfied: idna<4,>=2.5 in /usr/local/lib/python3.10/dist-packages (from requests->transformers) (3.4)\n",
            "Requirement already satisfied: urllib3<3,>=1.21.1 in /usr/local/lib/python3.10/dist-packages (from requests->transformers) (2.0.7)\n",
            "Requirement already satisfied: certifi>=2017.4.17 in /usr/local/lib/python3.10/dist-packages (from requests->transformers) (2023.7.22)\n"
          ]
        }
      ]
    },
    {
      "cell_type": "code",
      "execution_count": null,
      "metadata": {
        "id": "TGxkR0oIyAkr"
      },
      "outputs": [],
      "source": [
        "from tokenizers import ByteLevelBPETokenizer\n",
        "from tokenizers.implementations import ByteLevelBPETokenizer\n",
        "from tokenizers.processors import BertProcessing\n"
      ]
    },
    {
      "cell_type": "code",
      "source": [
        "from google.colab import drive\n",
        "drive.mount('/content/drive')\n"
      ],
      "metadata": {
        "colab": {
          "base_uri": "https://localhost:8080/"
        },
        "id": "ZgFmktvW_hiB",
        "outputId": "762a9e73-7096-46ec-f01f-2e8ce0abefae"
      },
      "execution_count": null,
      "outputs": [
        {
          "output_type": "stream",
          "name": "stdout",
          "text": [
            "Mounted at /content/drive\n"
          ]
        }
      ]
    },
    {
      "cell_type": "code",
      "source": [
        "%cd /content/drive/MyDrive/ECE1786/Project/Textfiles"
      ],
      "metadata": {
        "colab": {
          "base_uri": "https://localhost:8080/"
        },
        "id": "p9kmt22zASRW",
        "outputId": "494c4cd7-9fb8-49a8-f2d4-cc097f5548ea"
      },
      "execution_count": null,
      "outputs": [
        {
          "output_type": "stream",
          "name": "stdout",
          "text": [
            "/content/drive/MyDrive/ECE1786/Project/Textfiles\n"
          ]
        }
      ]
    },
    {
      "cell_type": "code",
      "source": [
        "tokenizer = ByteLevelBPETokenizer()\n",
        "\n",
        "tokenizer.train(files='/content/drive/MyDrive/ECE1786/Project/Textfiles/master', vocab_size=50000, min_frequency=2, special_tokens=[\n",
        "    \"<s>\",\n",
        "    \"<pad>\",\n",
        "    \"</s>\",\n",
        "    \"<unk>\",\n",
        "    \"<mask>\",\n",
        "])\n",
        "\n",
        "# Save files to disk\n",
        "tokenizer.save_model(\"/content/drive/MyDrive/ECE1786/Project/Tokenizer Files\", \"ECE1786Tokenizer0\")"
      ],
      "metadata": {
        "id": "VOVQ5DATzKHl",
        "colab": {
          "base_uri": "https://localhost:8080/"
        },
        "outputId": "580a324e-4452-43fa-9e64-bb5348155229"
      },
      "execution_count": null,
      "outputs": [
        {
          "output_type": "execute_result",
          "data": {
            "text/plain": [
              "['/content/drive/MyDrive/ECE1786/Project/Tokenizer Files/ECE1786Tokenizer0-vocab.json',\n",
              " '/content/drive/MyDrive/ECE1786/Project/Tokenizer Files/ECE1786Tokenizer0-merges.txt']"
            ]
          },
          "metadata": {},
          "execution_count": 5
        }
      ]
    },
    {
      "cell_type": "code",
      "source": [
        "#example tokenization\n",
        "tokenizer = ByteLevelBPETokenizer(\n",
        "    \"/content/drive/MyDrive/ECE1786/Project/Tokenizer Files/ECE1786Tokenizer0-vocab.json\",\n",
        "    \"/content/drive/MyDrive/ECE1786/Project/Tokenizer Files/ECE1786Tokenizer0-merges.txt\",\n",
        ")\n",
        "tokenizer._tokenizer.post_processor = BertProcessing(\n",
        "    (\"</s>\", tokenizer.token_to_id(\"</s>\")),\n",
        "    (\"<s>\", tokenizer.token_to_id(\"<s>\")),\n",
        ")\n",
        "tokenizer.enable_truncation(max_length=512)\n",
        "\n",
        "print(\n",
        "    tokenizer.encode(\"CIA\").ids\n",
        ")"
      ],
      "metadata": {
        "colab": {
          "base_uri": "https://localhost:8080/"
        },
        "id": "fxIClsAmUhW8",
        "outputId": "82104906-bd7f-4dbe-9176-ba34635a27bf"
      },
      "execution_count": null,
      "outputs": [
        {
          "output_type": "stream",
          "name": "stdout",
          "text": [
            "[0, 2195, 2]\n"
          ]
        }
      ]
    },
    {
      "cell_type": "code",
      "source": [
        "#take training lines file and generate masked training examples which can be passed through the tokenizer into a model\n",
        "import csv\n",
        "sep = \" \" #separator for joining training sentences\n",
        "with open('/content/drive/MyDrive/ECE1786/Project/CSVs/traininglines.csv', 'r') as tl:\n",
        "  csvreader = csv.reader(tl)\n",
        "  with open('/content/drive/MyDrive/ECE1786/Project/CSVs/trainingdata.csv','w') as td:\n",
        "    csvwriter = csv.writer(td)\n",
        "    for row in csvreader:\n",
        "      rowcopy = row.copy()\n",
        "      splitsentence = rowcopy[0].split()\n",
        "      target = rowcopy[1]\n",
        "      for i, word in enumerate(splitsentence):\n",
        "        if word == target:\n",
        "          splitsentence[i] = \"<mask>\" #start simple: only try to guess keywords. will expand to guessing multiple words and nearby words\n",
        "      maskedsentence = sep.join(splitsentence)\n",
        "      csvwriter.writerow([maskedsentence] + [target])"
      ],
      "metadata": {
        "id": "FGuEK2UZmbSY"
      },
      "execution_count": null,
      "outputs": []
    }
  ]
}