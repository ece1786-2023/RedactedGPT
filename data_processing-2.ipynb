{
  "cells": [
    {
      "cell_type": "code",
      "source": [
        "pip install transformers"
      ],
      "metadata": {
        "colab": {
          "base_uri": "https://localhost:8080/"
        },
        "id": "qj2m2B2pTz9Z",
        "outputId": "a1519f57-0ef5-41e1-fc45-f5f36706f678"
      },
      "execution_count": null,
      "outputs": [
        {
          "output_type": "stream",
          "name": "stdout",
          "text": [
            "Requirement already satisfied: transformers in /usr/local/lib/python3.10/dist-packages (4.35.2)\n",
            "Requirement already satisfied: filelock in /usr/local/lib/python3.10/dist-packages (from transformers) (3.13.1)\n",
            "Requirement already satisfied: huggingface-hub<1.0,>=0.16.4 in /usr/local/lib/python3.10/dist-packages (from transformers) (0.19.4)\n",
            "Requirement already satisfied: numpy>=1.17 in /usr/local/lib/python3.10/dist-packages (from transformers) (1.23.5)\n",
            "Requirement already satisfied: packaging>=20.0 in /usr/local/lib/python3.10/dist-packages (from transformers) (23.2)\n",
            "Requirement already satisfied: pyyaml>=5.1 in /usr/local/lib/python3.10/dist-packages (from transformers) (6.0.1)\n",
            "Requirement already satisfied: regex!=2019.12.17 in /usr/local/lib/python3.10/dist-packages (from transformers) (2023.6.3)\n",
            "Requirement already satisfied: requests in /usr/local/lib/python3.10/dist-packages (from transformers) (2.31.0)\n",
            "Requirement already satisfied: tokenizers<0.19,>=0.14 in /usr/local/lib/python3.10/dist-packages (from transformers) (0.15.0)\n",
            "Requirement already satisfied: safetensors>=0.3.1 in /usr/local/lib/python3.10/dist-packages (from transformers) (0.4.1)\n",
            "Requirement already satisfied: tqdm>=4.27 in /usr/local/lib/python3.10/dist-packages (from transformers) (4.66.1)\n",
            "Requirement already satisfied: fsspec>=2023.5.0 in /usr/local/lib/python3.10/dist-packages (from huggingface-hub<1.0,>=0.16.4->transformers) (2023.6.0)\n",
            "Requirement already satisfied: typing-extensions>=3.7.4.3 in /usr/local/lib/python3.10/dist-packages (from huggingface-hub<1.0,>=0.16.4->transformers) (4.5.0)\n",
            "Requirement already satisfied: charset-normalizer<4,>=2 in /usr/local/lib/python3.10/dist-packages (from requests->transformers) (3.3.2)\n",
            "Requirement already satisfied: idna<4,>=2.5 in /usr/local/lib/python3.10/dist-packages (from requests->transformers) (3.6)\n",
            "Requirement already satisfied: urllib3<3,>=1.21.1 in /usr/local/lib/python3.10/dist-packages (from requests->transformers) (2.0.7)\n",
            "Requirement already satisfied: certifi>=2017.4.17 in /usr/local/lib/python3.10/dist-packages (from requests->transformers) (2023.11.17)\n"
          ]
        }
      ]
    },
    {
      "cell_type": "code",
      "execution_count": null,
      "metadata": {
        "colab": {
          "base_uri": "https://localhost:8080/"
        },
        "id": "RIWykOsVPr5q",
        "outputId": "9b94b68e-2032-4f51-90d0-2652a1897ba0"
      },
      "outputs": [
        {
          "name": "stdout",
          "output_type": "stream",
          "text": [
            "Reading package lists... Done\n",
            "Building dependency tree... Done\n",
            "Reading state information... Done\n",
            "The following NEW packages will be installed:\n",
            "  poppler-utils\n",
            "0 upgraded, 1 newly installed, 0 to remove and 15 not upgraded.\n",
            "Need to get 186 kB of archives.\n",
            "After this operation, 696 kB of additional disk space will be used.\n",
            "Get:1 http://archive.ubuntu.com/ubuntu jammy-updates/main amd64 poppler-utils amd64 22.02.0-2ubuntu0.3 [186 kB]\n",
            "Fetched 186 kB in 1s (243 kB/s)\n",
            "Selecting previously unselected package poppler-utils.\n",
            "(Reading database ... 120882 files and directories currently installed.)\n",
            "Preparing to unpack .../poppler-utils_22.02.0-2ubuntu0.3_amd64.deb ...\n",
            "Unpacking poppler-utils (22.02.0-2ubuntu0.3) ...\n",
            "Setting up poppler-utils (22.02.0-2ubuntu0.3) ...\n",
            "Processing triggers for man-db (2.10.2-1) ...\n"
          ]
        }
      ],
      "source": [
        "!apt-get install poppler-utils"
      ]
    },
    {
      "cell_type": "code",
      "execution_count": null,
      "metadata": {
        "colab": {
          "base_uri": "https://localhost:8080/"
        },
        "id": "8wiJNKzPvWmk",
        "outputId": "bc6ec99d-cb86-4c80-8569-1854a11663fa"
      },
      "outputs": [
        {
          "name": "stdout",
          "output_type": "stream",
          "text": [
            "Reading package lists... Done\n",
            "Building dependency tree... Done\n",
            "Reading state information... Done\n",
            "The following additional packages will be installed:\n",
            "  tesseract-ocr-eng tesseract-ocr-osd\n",
            "The following NEW packages will be installed:\n",
            "  tesseract-ocr tesseract-ocr-eng tesseract-ocr-osd\n",
            "0 upgraded, 3 newly installed, 0 to remove and 15 not upgraded.\n",
            "Need to get 4,816 kB of archives.\n",
            "After this operation, 15.6 MB of additional disk space will be used.\n",
            "Get:1 http://archive.ubuntu.com/ubuntu jammy/universe amd64 tesseract-ocr-eng all 1:4.00~git30-7274cfa-1.1 [1,591 kB]\n",
            "Get:2 http://archive.ubuntu.com/ubuntu jammy/universe amd64 tesseract-ocr-osd all 1:4.00~git30-7274cfa-1.1 [2,990 kB]\n",
            "Get:3 http://archive.ubuntu.com/ubuntu jammy/universe amd64 tesseract-ocr amd64 4.1.1-2.1build1 [236 kB]\n",
            "Fetched 4,816 kB in 1s (3,588 kB/s)\n",
            "debconf: unable to initialize frontend: Dialog\n",
            "debconf: (No usable dialog-like program is installed, so the dialog based frontend cannot be used. at /usr/share/perl5/Debconf/FrontEnd/Dialog.pm line 78, <> line 3.)\n",
            "debconf: falling back to frontend: Readline\n",
            "debconf: unable to initialize frontend: Readline\n",
            "debconf: (This frontend requires a controlling tty.)\n",
            "debconf: falling back to frontend: Teletype\n",
            "dpkg-preconfigure: unable to re-open stdin: \n",
            "Selecting previously unselected package tesseract-ocr-eng.\n",
            "(Reading database ... 120912 files and directories currently installed.)\n",
            "Preparing to unpack .../tesseract-ocr-eng_1%3a4.00~git30-7274cfa-1.1_all.deb ...\n",
            "Unpacking tesseract-ocr-eng (1:4.00~git30-7274cfa-1.1) ...\n",
            "Selecting previously unselected package tesseract-ocr-osd.\n",
            "Preparing to unpack .../tesseract-ocr-osd_1%3a4.00~git30-7274cfa-1.1_all.deb ...\n",
            "Unpacking tesseract-ocr-osd (1:4.00~git30-7274cfa-1.1) ...\n",
            "Selecting previously unselected package tesseract-ocr.\n",
            "Preparing to unpack .../tesseract-ocr_4.1.1-2.1build1_amd64.deb ...\n",
            "Unpacking tesseract-ocr (4.1.1-2.1build1) ...\n",
            "Setting up tesseract-ocr-eng (1:4.00~git30-7274cfa-1.1) ...\n",
            "Setting up tesseract-ocr-osd (1:4.00~git30-7274cfa-1.1) ...\n",
            "Setting up tesseract-ocr (4.1.1-2.1build1) ...\n",
            "Processing triggers for man-db (2.10.2-1) ...\n",
            "Collecting pytesseract\n",
            "  Downloading pytesseract-0.3.10-py3-none-any.whl (14 kB)\n",
            "Requirement already satisfied: packaging>=21.3 in /usr/local/lib/python3.10/dist-packages (from pytesseract) (23.2)\n",
            "Requirement already satisfied: Pillow>=8.0.0 in /usr/local/lib/python3.10/dist-packages (from pytesseract) (9.4.0)\n",
            "Installing collected packages: pytesseract\n",
            "Successfully installed pytesseract-0.3.10\n"
          ]
        }
      ],
      "source": [
        "!sudo apt install tesseract-ocr\n",
        "!pip install pytesseract"
      ]
    },
    {
      "cell_type": "code",
      "execution_count": null,
      "metadata": {
        "colab": {
          "base_uri": "https://localhost:8080/"
        },
        "id": "doXwvLm5NGkn",
        "outputId": "68ef4875-302d-4d70-b1e8-2a2bb1e84fa5"
      },
      "outputs": [
        {
          "name": "stdout",
          "output_type": "stream",
          "text": [
            "Collecting pdf2image\n",
            "  Downloading pdf2image-1.16.3-py3-none-any.whl (11 kB)\n",
            "Requirement already satisfied: pillow in /usr/local/lib/python3.10/dist-packages (from pdf2image) (9.4.0)\n",
            "Installing collected packages: pdf2image\n",
            "Successfully installed pdf2image-1.16.3\n"
          ]
        }
      ],
      "source": [
        "pip install pdf2image"
      ]
    },
    {
      "cell_type": "code",
      "execution_count": null,
      "metadata": {
        "colab": {
          "base_uri": "https://localhost:8080/"
        },
        "id": "sK--NKKortdG",
        "outputId": "e89334c3-1bd6-4098-a60f-c581d25da804"
      },
      "outputs": [
        {
          "name": "stdout",
          "output_type": "stream",
          "text": [
            "Collecting pytesseract\n",
            "  Downloading pytesseract-0.3.10-py3-none-any.whl (14 kB)\n",
            "Requirement already satisfied: packaging>=21.3 in /usr/local/lib/python3.10/dist-packages (from pytesseract) (23.2)\n",
            "Requirement already satisfied: Pillow>=8.0.0 in /usr/local/lib/python3.10/dist-packages (from pytesseract) (9.4.0)\n",
            "Installing collected packages: pytesseract\n",
            "Successfully installed pytesseract-0.3.10\n"
          ]
        }
      ],
      "source": [
        "pip install pytesseract"
      ]
    },
    {
      "cell_type": "code",
      "execution_count": null,
      "metadata": {
        "colab": {
          "base_uri": "https://localhost:8080/"
        },
        "id": "H6iEgY2MBOez",
        "outputId": "4c138a40-9919-4928-cc3c-0b8b4dc14d4f"
      },
      "outputs": [
        {
          "output_type": "stream",
          "name": "stdout",
          "text": [
            "Mounted at /content/drive\n"
          ]
        }
      ],
      "source": [
        "from google.colab import drive\n",
        "drive.mount('/content/drive')"
      ]
    },
    {
      "cell_type": "code",
      "execution_count": null,
      "metadata": {
        "colab": {
          "base_uri": "https://localhost:8080/"
        },
        "id": "VxM4SwTAN-3S",
        "outputId": "d9fe5400-f14a-46da-84a0-f9adf9100574"
      },
      "outputs": [
        {
          "name": "stdout",
          "output_type": "stream",
          "text": [
            "/content/drive/MyDrive/ECE1786/Project/PDFs\n"
          ]
        }
      ],
      "source": [
        "%cd /content/drive/MyDrive/ECE1786/Project/PDFs"
      ]
    },
    {
      "cell_type": "code",
      "execution_count": null,
      "metadata": {
        "id": "xyqAIzaGNCfx"
      },
      "outputs": [],
      "source": [
        "from pdf2image import convert_from_path, convert_from_bytes #these imports for processing the images\n",
        "from pdf2image.exceptions import (\n",
        "    PDFInfoNotInstalledError,\n",
        "    PDFPageCountError,\n",
        "    PDFSyntaxError\n",
        ")\n",
        "import pytesseract as pt\n",
        "import pytesseract\n",
        "import shutil\n",
        "import os\n",
        "import random\n",
        "try:\n",
        " from PIL import Image\n",
        "except ImportError:\n",
        " import Image"
      ]
    },
    {
      "cell_type": "code",
      "source": [
        "import csv #these imports for creating training datasets from the cleaned_master_2.txt file\n",
        "from transformers import AutoTokenizer"
      ],
      "metadata": {
        "id": "1QMyENvNWmeT"
      },
      "execution_count": null,
      "outputs": []
    },
    {
      "cell_type": "code",
      "execution_count": null,
      "metadata": {
        "colab": {
          "base_uri": "https://localhost:8080/"
        },
        "id": "DFU22PdVNhmO",
        "outputId": "facbcd76-2487-4770-d96f-72d43708c412"
      },
      "outputs": [
        {
          "name": "stdout",
          "output_type": "stream",
          "text": [
            "'911 Commission Report.pdf'   DOC_0001525482.pdf   DOC_0006297294.pdf\n",
            " DOC_0001229684.pdf           DOC_0006220800.pdf   DOC_0006364591.pdf\n"
          ]
        }
      ],
      "source": [
        "%ls"
      ]
    },
    {
      "cell_type": "code",
      "execution_count": null,
      "metadata": {
        "id": "nwGy5Q6QNmsU"
      },
      "outputs": [],
      "source": [
        "pdfNames = ['DOC_0001229684.pdf',  'DOC_0001525482.pdf',  'DOC_0006220800.pdf',  'DOC_0006297294.pdf',  'DOC_0006364591.pdf']\n",
        "#all of the scanned documents"
      ]
    },
    {
      "cell_type": "code",
      "execution_count": null,
      "metadata": {
        "id": "CmAtjHTBNd0E"
      },
      "outputs": [],
      "source": [
        "ifl = [] #imagefilelist: list of image files to be stored here on this notebook which we then convert to .txt\n",
        "for pdf in pdfNames:\n",
        "  imagefile = convert_from_path(pdf)\n",
        "  ifl += [imagefile]\n"
      ]
    },
    {
      "cell_type": "code",
      "execution_count": null,
      "metadata": {
        "id": "pDd2kdWwGQl9"
      },
      "outputs": [],
      "source": [
        "#convert single pdf to image (when we already have the .PNG)\n",
        "imagefile = convert_from_path('911 Commission Report.pdf')\n",
        "ifl += [imagefile]"
      ]
    },
    {
      "cell_type": "code",
      "execution_count": null,
      "metadata": {
        "id": "ngFdSHfKp_Ma"
      },
      "outputs": [],
      "source": [
        "#convert images saved in this notebook into textfiles\n",
        "for i, imagefile in enumerate(ifl):\n",
        "  with open('/content/drive/MyDrive/ECE1786/Project/Textfiles/'+str(pdfNames[i][:-4]), 'w') as f:\n",
        "    for image in imagefile:\n",
        "      f.write(pt.image_to_string(image)) #create separate files based on the filenames; could be used for cleaning one at a time\n"
      ]
    },
    {
      "cell_type": "code",
      "execution_count": null,
      "metadata": {
        "id": "0OMWKEnEjXk-"
      },
      "outputs": [],
      "source": [
        "#convert images saved in Drive to txt\n",
        "basename = \"911 Commission Report 101-200-\"\n",
        "\n",
        "with open('/content/drive/MyDrive/ECE1786/Project/Textfiles/commission', 'w') as c:\n",
        "  for i in range(1,586,1):\n",
        "    print(i)\n",
        "    if i < 10:\n",
        "      filename = basename + \"00\"+str(i) #maintaining consistent naming of the files\n",
        "    elif i < 100:\n",
        "      filename = basename + \"0\"+str(i)\n",
        "    else:\n",
        "      filename = basename +str(i)\n",
        "    c.write(pt.image_to_string(Image.open('/content/drive/MyDrive/ECE1786/Project/Images/Commission Images/911 Commission Report Images/'+filename+'.png')))\n"
      ]
    },
    {
      "cell_type": "code",
      "execution_count": null,
      "metadata": {
        "id": "HnqPXhGnzn9Z"
      },
      "outputs": [],
      "source": [
        "#consolidate all textfiles into one master textfile for easy training\n",
        "with open('/content/drive/MyDrive/ECE1786/Project/Textfiles/master', 'w') as master:\n",
        "  for filename in pdfNames:\n",
        "    with open('/content/drive/MyDrive/ECE1786/Project/Textfiles/'+filename[:-4], 'r') as f:\n",
        "      master.write(f.read())\n",
        "    f.close()\n",
        "  with open('/content/drive/MyDrive/ECE1786/Project/Textfiles/commission', 'r') as c:\n",
        "    master.write(c.read())"
      ]
    },
    {
      "cell_type": "code",
      "execution_count": null,
      "metadata": {
        "id": "0-peGb8ZdQTh"
      },
      "outputs": [],
      "source": [
        "#clean up master file\n",
        "import csv\n",
        "with open('/content/drive/MyDrive/ECE1786/Project/Textfiles/master', 'r') as master:\n",
        "  for i in range(40):\n",
        "    line = master.readline()\n",
        "    if i == 6:\n",
        "      blankline = line #unsure what characters represent the blank lines, so manually found one and removed it\n",
        "with open('/content/drive/MyDrive/ECE1786/Project/Textfiles/cleaned_master.txt', 'w') as cm:\n",
        "  with open('/content/drive/MyDrive/ECE1786/Project/Textfiles/master', 'r') as master:\n",
        "    while True:\n",
        "      line = master.readline()\n",
        "      if not line:\n",
        "        break\n",
        "      elif line != blankline:\n",
        "        cm.write(line)\n",
        "with open('/content/drive/MyDrive/ECE1786/Project/Textfiles/cleaned_master.txt', 'r') as cm:\n",
        "  for i in range(2000):\n",
        "    line = cm.readline()\n",
        "    if i == 38:\n",
        "      blankline = line #there seem to be several types of blank lines to remove\n",
        "    elif i == 1033:\n",
        "      unknown_char = line[0] #weird character keeps appearing (probably outside of unicode)\n",
        "    elif i == 1796:\n",
        "      unknown_char2 = line[0]\n",
        "    elif i == 1034:\n",
        "      blankline2 = line\n",
        "\n",
        "with open('/content/drive/MyDrive/ECE1786/Project/Textfiles/cleaned_master_2.txt', 'w') as cm:\n",
        "  with open('/content/drive/MyDrive/ECE1786/Project/Textfiles/cleaned_master.txt', 'r') as master:\n",
        "    while True:\n",
        "      line = master.readline()\n",
        "      if not line:\n",
        "        break\n",
        "      #remove commonly occuring patterns from declassified documents\n",
        "      #strings of capital letters only occur acround redacted sections and those lines contain nothing else\n",
        "      #also removing common section titles or headers\n",
        "      #these if statements were all manually added based on reading the txt flies and looking at repeated characters\n",
        "      elif line != blankline and \"SECR\" not in line and \"SEGR\" not in line and \"SESR\" not in line and \"SECG\" not in line:\n",
        "        if \"DCI Counterterrorist Center\" not in line and \"Approved for Release:\" not in line:\n",
        "          if \"August 2001\" not in line and \"SCOPE AND METHODOLOGY\" not in line:\n",
        "            if \"SECRE\" not in line and line[0] != unknown_char and line != blankline2 and line[0] != unknown_char2:\n",
        "              if \"FINDINGS\" not in line:\n",
        "                if \"INTRODUCTION\" not in line and line[:6] != \"Figure\":\n",
        "                  if \"SCOPE & METHODOLOGY\" not in line and \"SEE\" not in line and \"WORD\" not in line:\n",
        "                    if len(line) > 11: #many lines only have a few weird characters. worst case we cut out only a couple words\n",
        "                      if line[:3] == \"-- \":\n",
        "                        cm.write(line[3:])\n",
        "                      else:\n",
        "                        cm.write(line)\n",
        "# with open('/content/drive/MyDrive/ECE1786/Project/Textfiles/cleaned_master_2.txt', 'r') as cm:\n",
        "#   for i in range(2500):\n",
        "#     line = cm.readline()\n",
        "#     print(str(i) + \" \"+line)"
      ]
    },
    {
      "cell_type": "code",
      "execution_count": null,
      "metadata": {
        "id": "081crcX59TeM",
        "colab": {
          "base_uri": "https://localhost:8080/",
          "height": 242
        },
        "outputId": "dec5d8f8-48ca-432a-ae4a-6ec06a840f4f"
      },
      "outputs": [
        {
          "output_type": "error",
          "ename": "FileNotFoundError",
          "evalue": "ignored",
          "traceback": [
            "\u001b[0;31m---------------------------------------------------------------------------\u001b[0m",
            "\u001b[0;31mFileNotFoundError\u001b[0m                         Traceback (most recent call last)",
            "\u001b[0;32m<ipython-input-10-aee4f66b9dc5>\u001b[0m in \u001b[0;36m<cell line: 2>\u001b[0;34m()\u001b[0m\n\u001b[1;32m      1\u001b[0m \u001b[0;31m#find most frequently used words\u001b[0m\u001b[0;34m\u001b[0m\u001b[0;34m\u001b[0m\u001b[0m\n\u001b[0;32m----> 2\u001b[0;31m \u001b[0;32mwith\u001b[0m \u001b[0mopen\u001b[0m\u001b[0;34m(\u001b[0m\u001b[0;34m'/content/drive/MyDrive/ECE1786/Project/Textfiles/cleaned_master_2.txt'\u001b[0m\u001b[0;34m,\u001b[0m \u001b[0;34m'r'\u001b[0m\u001b[0;34m)\u001b[0m \u001b[0;32mas\u001b[0m \u001b[0mmaster\u001b[0m\u001b[0;34m:\u001b[0m\u001b[0;34m\u001b[0m\u001b[0;34m\u001b[0m\u001b[0m\n\u001b[0m\u001b[1;32m      3\u001b[0m   \u001b[0mm\u001b[0m \u001b[0;34m=\u001b[0m \u001b[0mmaster\u001b[0m\u001b[0;34m.\u001b[0m\u001b[0mread\u001b[0m\u001b[0;34m(\u001b[0m\u001b[0;34m)\u001b[0m\u001b[0;34m\u001b[0m\u001b[0;34m\u001b[0m\u001b[0m\n\u001b[1;32m      4\u001b[0m \u001b[0;34m\u001b[0m\u001b[0m\n\u001b[1;32m      5\u001b[0m \u001b[0mworddict\u001b[0m \u001b[0;34m=\u001b[0m \u001b[0;34m{\u001b[0m\u001b[0;34m}\u001b[0m\u001b[0;34m\u001b[0m\u001b[0;34m\u001b[0m\u001b[0m\n",
            "\u001b[0;31mFileNotFoundError\u001b[0m: [Errno 2] No such file or directory: '/content/drive/MyDrive/ECE1786/Project/Textfiles/cleaned_master_2.txt'"
          ]
        }
      ],
      "source": [
        "#find most frequently used words\n",
        "with open('/content/drive/MyDrive/ECE1786/Project/Textfiles/cleaned_master_2.txt', 'r') as master:\n",
        "  m = master.read()\n",
        "\n",
        "worddict = {}\n",
        "sorted_worddict = {}\n",
        "lines = m.split(\"\\n\")\n",
        "for line in lines:\n",
        "  words = line.split()\n",
        "  for word in words:\n",
        "    if word not in worddict:\n",
        "      worddict[word] = 1\n",
        "    else:\n",
        "      worddict[word] += 1\n",
        "\n",
        "sorted_wordlist = sorted(worddict, key=worddict.get, reverse = True)\n"
      ]
    },
    {
      "cell_type": "code",
      "source": [
        "#possible keywords for training (may or may not be in each tokenizer's vocab)\n",
        "#these were chosen arbitrarily from sorted_wordlist. Could be expanded or improved with more context on the domain\n",
        "master_keywords = ['Bin', 'Ladin', 'CIA', 'FBI', 'Al', 'Qaeda', 'FAA', 'Clarke', 'interrogation', 'CTC', 'Hazmi', 'NYPD', 'Mihdhar', 'Taliban', 'Rice', 'Binalshibh', 'Abu', 'Battalion', 'Richard', 'Binalshibh,','Jarrah', 'Berger', 'Berger,','Khallad', 'DOJ', 'Khallad,','Moussaoui','Ladin.','DOD','bin','Shehhi', 'Hanjour', 'CIA,','Usama','Qaeda.','Islamist', 'Hamburg','Ahmed','Pentagon', 'Hadley', 'Omar','Abdullah','Qaeda,','William','Bayoumi','suicide','Ramzi','Rumsfeld','Yousef', 'Ali','Thomas', 'Samuel', 'Sudan', 'nuclear', 'Shelton', 'Ressam','Hazmi,','Ashcroft','Condoleezza', 'Sheikh', 'Sudanese', 'Shehhi', 'Mohamed', 'Laden', 'Jarrah','Hambali','Nawaf', 'Saeed', 'Nashiri', 'Cressey', 'Clarke,','Ghamdi']\n",
        "print(len(master_keywords))"
      ],
      "metadata": {
        "colab": {
          "base_uri": "https://localhost:8080/"
        },
        "id": "vKKEV5_9a_c9",
        "outputId": "f136d504-876f-449e-dfb9-bf1eb77b42fe"
      },
      "execution_count": null,
      "outputs": [
        {
          "output_type": "stream",
          "name": "stdout",
          "text": [
            "72\n"
          ]
        }
      ]
    },
    {
      "cell_type": "code",
      "source": [
        "#add keywords to tokenizer vocab\n",
        "#generate training data file where target tokens are only word in this new tokenizer vocabulary\n",
        "\n",
        "def update_tokenizer_get_training_data(model_name, sorted_wordlist, master_keywords):\n",
        "  tokenizer = AutoTokenizer.from_pretrained(model_name)\n",
        "  tokenizer.add_special_tokens({\"mask_token\": \"[MASK]\"}) #add standard special tokens for consistency, so model training files are consistent\n",
        "  tokenizer.add_special_tokens({'pad_token': '[PAD]'})\n",
        "  tokenizer.add_special_tokens({'eos_token': '[EOS]'})\n",
        "  tokenizer_keywords = [] #custom list of keywords\n",
        "\n",
        "  initial_vocab = tokenizer.vocab\n",
        "  print(len(initial_vocab))\n",
        "  for word in master_keywords:\n",
        "    if word not in initial_vocab:\n",
        "      tokenizer.add_tokens(word)\n",
        "\n",
        "  vocab = tokenizer.vocab\n",
        "  print(len(vocab))\n",
        "\n",
        "  #save the modified tokenizer so we may access it in the training files\n",
        "  if model_name == \"microsoft/deberta-base\":\n",
        "    model_name = \"deberta\" #model name is used in naming files, the / character implies a directory which doesn't exist\n",
        "\n",
        "  if model_name == \"bert-base-cased\":\n",
        "    tokenizer.save_pretrained(\"/content/drive/MyDrive/ECE1786/Project/Tokenizer Files/BERT_tokenizer\")\n",
        "  elif model_name == \"gpt2\":\n",
        "    tokenizer.save_pretrained(\"/content/drive/MyDrive/ECE1786/Project/Tokenizer Files/gpt2_tokenizer\")\n",
        "  elif model_name == \"deberta\":\n",
        "    tokenizer.save_pretrained(\"/content/drive/MyDrive/ECE1786/Project/Tokenizer Files/DeBERTa_tokenizer\")\n",
        "\n",
        "  #create training lines: sentences followed by the target in CSV format\n",
        "  with open('/content/drive/MyDrive/ECE1786/Project/Textfiles/cleaned_master_2.txt', 'r') as master:\n",
        "    with open('/content/drive/MyDrive/ECE1786/Project/CSVs/traininglines_'+model_name+'.csv', 'w') as tl:\n",
        "      csvwriter = csv.writer(tl, delimiter = ',')\n",
        "      linestring = \"\"\n",
        "      while True:\n",
        "        line = master.readline()\n",
        "        if not line:\n",
        "          break\n",
        "        linestring = line\n",
        "        splitline = line.split()\n",
        "        for i, word in enumerate(splitline):\n",
        "          if word in master_keywords:\n",
        "            for k in range(i - 1, i + 1, 1): #create training examples by sampling 1 word before and 1 words after\n",
        "              if k >= 0 and k < len(splitline) and splitline[k] in vocab:\n",
        "                csvwriter.writerow([linestring] + [splitline[k]])\n",
        "        lines = []\n",
        "        linestring = \"\"\n",
        "\n",
        "  tl.close()\n",
        "  master.close()\n",
        "\n",
        "  #create training data, in CSV format, by masking the label from the input sentences- so each row looks like (masked input, target)\n",
        "  sep = \" \" #separator for joining training sentences\n",
        "  with open('/content/drive/MyDrive/ECE1786/Project/CSVs/traininglines_'+model_name+'.csv', 'r') as tl:\n",
        "    csvreader = csv.reader(tl)\n",
        "    with open('/content/drive/MyDrive/ECE1786/Project/CSVs/trainingdata_'+model_name+'.csv','w') as td:\n",
        "      csvwriter = csv.writer(td)\n",
        "      for row in csvreader:\n",
        "        rowcopy = row.copy()\n",
        "        splitsentence = rowcopy[0].split()\n",
        "        target = rowcopy[1]\n",
        "        for i, word in enumerate(splitsentence):\n",
        "          if word == target:\n",
        "            splitsentence[i] = \"[MASK]\"\n",
        "        maskedsentence = sep.join(splitsentence)\n",
        "        csvwriter.writerow([maskedsentence] + [target])\n",
        "  return"
      ],
      "metadata": {
        "id": "YF5I2224VL45"
      },
      "execution_count": null,
      "outputs": []
    },
    {
      "cell_type": "code",
      "source": [
        "#a measure of the difficulty of the task- how many training examples and how many training lines\n",
        "def get_complexity(model_name):\n",
        "  labeldict = {} #dictionary to count the occurences of the target words\n",
        "  if model_name == \"microsoft/deberta-base\":\n",
        "    model_name = \"deberta\" #model name is used in naming files, the / character implies a directory which doesn't exist\n",
        "  with open('/content/drive/MyDrive/ECE1786/Project/CSVs/trainingdata_'+model_name+'.csv','r') as td:\n",
        "    csvreader = csv.reader(td)\n",
        "    i = 0\n",
        "    for row in csvreader:\n",
        "      i += 1 #count how many lines are in the file\n",
        "      target = row[1]\n",
        "      if target not in labeldict:\n",
        "        labeldict[target] = 1\n",
        "      else:\n",
        "        labeldict[target] += 1\n",
        "\n",
        "  sorted_labellist = sorted(labeldict, key=labeldict.get, reverse = True)\n",
        "  sorted_vallist = []\n",
        "  sorted_labeldict = {}\n",
        "  for word in sorted_labellist:\n",
        "    sorted_labeldict[word] = labeldict[word]/i #average fraction of total training examples with this token - more for common words, less for others\n",
        "    sorted_vallist += [labeldict[word]/i]\n",
        "  #print(sorted_labeldict)\n",
        "  #print(sorted_vallist)\n",
        "  #print(sum(sorted_vallist[:10]))\n",
        "  return str(len(sorted_labellist)) + \" distinct labels, \"+ str(i) + \" lines; \"+str(i/len(sorted_labellist))+\" lines per label \"\n",
        "\n"
      ],
      "metadata": {
        "id": "DgW6wxgcWBQK"
      },
      "execution_count": null,
      "outputs": []
    },
    {
      "cell_type": "code",
      "source": [
        "model_names = [\"gpt2\",\"bert-base-cased\",\"microsoft/deberta-base\"]"
      ],
      "metadata": {
        "id": "iHGuVh9jb55l"
      },
      "execution_count": null,
      "outputs": []
    },
    {
      "cell_type": "code",
      "source": [
        "for model_name in model_names: #get the tokenizer, save it, generate training data, save that, for every model\n",
        "  update_tokenizer_get_training_data(model_name, sorted_wordlist, master_keywords)"
      ],
      "metadata": {
        "id": "UST-fVv-dHPJ"
      },
      "execution_count": null,
      "outputs": []
    },
    {
      "cell_type": "code",
      "source": [
        "for model_name in model_names: #get the average number of training examples for each label, for each model\n",
        "  print(get_complexity(model_name))"
      ],
      "metadata": {
        "colab": {
          "base_uri": "https://localhost:8080/"
        },
        "id": "mMCZY-79b7co",
        "outputId": "22f3c134-9d6d-4fcc-82e4-07ca86a3ed3b"
      },
      "execution_count": null,
      "outputs": [
        {
          "output_type": "stream",
          "name": "stdout",
          "text": [
            "{'Bin': 0.11801592776070734, 'FBI': 0.05675048598482473, 'the': 0.04910014422775444, 'CIA': 0.04621558913902302, 'Ladin': 0.04558851194582053, 'al': 0.04339374176961184, 'Qaeda': 0.034551953345456826, 'of': 0.02313914842917163, 'and': 0.022825609832570388, 'FAA': 0.022386655797328653, 'Clarke': 0.022010409481407162, 'interrogation': 0.02125791684956418, 'see': 0.019878347024518718, 'to': 0.01937668526995673, 'CTC': 0.016680253339186053, 'Hazmi': 0.01530068351414059, 'that': 0.013670282811814134, 'NYPD': 0.012792374741330657, 'Richard': 0.012102589828807925, 'Mihdhar': 0.01122468175832445, 'The': 0.011036558600363705, 'Berger': 0.010221358249200476, 'Taliban': 0.009970527371919483, 'Rice': 0.009594281055997994, 'Binalshibh': 0.00896720386279551, 'Abu': 0.008904496143475263, 'Al': 0.00865366526619427, 'Battalion': 0.00859095754687402, 'Binalshibh,': 0.008277418950272779, 'Usama': 0.00783846491503104, 'with': 0.007023264563867812, 'Jarrah': 0.00670972596726657, 'Berger,': 0.006584310528626074, 'Khallad': 0.006521602809305826, 'Khallad,': 0.006270771932024832, 'DOJ': 0.006208064212704584, 'bin': 0.005831817896783094, 'See': 0.005706402458142597, 'Ladin.': 0.0055809870195021, 'Moussaoui': 0.0055809870195021, 'DOD': 0.005267448422900859, 'Ramzi': 0.005079325264940114, 'Shehhi': 0.0049539098262996175, 'Condoleezza': 0.004891202106979369, 'CIA,': 0.004828494387659121, 'Hanjour': 0.004828494387659121, 'Samuel': 0.004640371229698376, 'by': 0.004326832633097135, 'Ahmed': 0.004201417194456637, 'Qaeda.': 0.004013294036495893, 'Islamist': 0.003887878597855396, 'Hamburg': 0.0038251708785351475, 'Pentagon': 0.0037624631592148993, 'Hadley': 0.0037624631592148993, 'Abdullah': 0.003699755439894651, 'Qaeda,': 0.003699755439894651, 'on': 0.0036370477205744027, 'Omar': 0.0036370477205744027, 'in': 0.0033862168432934095, 'William': 0.0033862168432934095, 'Bayoumi': 0.003260801404652913, 'suicide': 0.0031980936853326643, 'a': 0.003135385966012416, 'against': 0.0030726782466921677, 'for': 0.0030726782466921677, 'For': 0.0030726782466921677, 'Rumsfeld': 0.0030726782466921677, 'Yousef': 0.0030726782466921677, 'Sheikh': 0.0030099705273719194, 'Hazmi,': 0.002884555088731423, 'Ali': 0.002884555088731423, 'Thomas': 0.002696431930770678, 'Sudan': 0.002696431930770678, 'nuclear': 0.002696431930770678, 'Shelton': 0.002696431930770678, 'Ressam': 0.002696431930770678, 'Ashcroft': 0.0026337242114504297, 'Sudanese': 0.0025083087728099327, 'Mohamed': 0.002320185614849188, 'Saeed': 0.002320185614849188, 'Clarke,': 0.0021947701762086913, 'Nawaf': 0.0021947701762086913, 'Hambali': 0.0021947701762086913, 'Nashiri': 0.002132062456888443, 'Cressey': 0.002132062456888443, 'at': 0.001943939298927698, 'Ghamdi': 0.001943939298927698, 'from': 0.0016931084216467048, 'also': 0.0016931084216467048, 'an': 0.0016304007023264565, 'as': 0.0013168621057252148, 'or': 0.0013168621057252148, 'General': 0.0011287389477644698, 'about': 0.0011287389477644698, 'John': 0.0011287389477644698, 'Although': 0.0010033235091239732, 'after': 0.0010033235091239732, 'On': 0.0010033235091239732, 'which': 0.0009406157898037248, 'While': 0.0009406157898037248, 'between': 0.0009406157898037248, 'Roger': 0.0009406157898037248, 'Secretary': 0.0008779080704834765, 'when': 0.0008779080704834765, 'wrote': 0.0008779080704834765, 'where': 0.0008152003511632282, 'if': 0.0007524926318429799, 'because': 0.0007524926318429799, 'kill': 0.0006897849125227316, 'Donald': 0.0006270771932024832, 'Stephen': 0.0006270771932024832, 'Laden': 0.0005643694738822349, 'while': 0.0005643694738822349, 'When': 0.0005643694738822349, 'within': 0.0005016617545619866, 'met': 0.0005016617545619866, 'its': 0.0005016617545619866, 'including': 0.0005016617545619866, 'but': 0.0005016617545619866, 'told': 0.0005016617545619866, 'what': 0.00043895403524173826, 'But': 0.00043895403524173826, 'other': 0.00043895403524173826, 'killing': 0.00043895403524173826, 'Inside': 0.00043895403524173826, 're': 0.00043895403524173826, 'As': 0.0003762463159214899, 'all': 0.0003762463159214899, 'some': 0.0003762463159214899, 'into': 0.0003762463159214899, 'left': 0.0003762463159214899, 'President': 0.0003762463159214899, 'one': 0.0003762463159214899, 'Prince': 0.0003762463159214899, 'whether': 0.0003762463159214899, 'former': 0.0003135385966012416, 'how': 0.0003135385966012416, 'A': 0.0003135385966012416, 'State': 0.0003135385966012416, 'two': 0.0003135385966012416, 'named': 0.0003135385966012416, 'sent': 0.0003135385966012416, 'before': 0.0003135385966012416, 'After': 0.0003135385966012416, 'Both': 0.0003135385966012416, 'identified': 0.0003135385966012416, 'help': 0.0002508308772809933, 'described': 0.0002508308772809933, 'Though': 0.0002508308772809933, 'An': 0.0002508308772809933, 'was': 0.0002508308772809933, 'up': 0.0002508308772809933, 'If': 0.0002508308772809933, 'get': 0.0002508308772809933, 'new': 0.0002508308772809933, 'his': 0.0002508308772809933, 'either': 0.0002508308772809933, 'Against': 0.0002508308772809933, 'both': 0.00018812315796074496, 'were': 0.00018812315796074496, 'local': 0.00018812315796074496, 'did': 0.00018812315796074496, 'use': 0.00018812315796074496, 'Yet': 0.00018812315796074496, 'accompanied': 0.00018812315796074496, 'put': 0.00018812315796074496, 'over': 0.00018812315796074496, 'lah': 0.00018812315796074496, '1998': 0.00018812315796074496, 'reported': 0.00018812315796074496, 'used': 0.00018812315796074496, 'like': 0.00018812315796074496, 'There': 0.00018812315796074496, 'thought': 0.00018812315796074496, 'ask': 0.00018812315796074496, 'find': 0.00018812315796074496, 'Neither': 0.00018812315796074496, 'who': 0.00018812315796074496, 'meet': 0.00018812315796074496, 'another': 0.00018812315796074496, 'Two': 0.00018812315796074496, 'no': 0.00018812315796074496, 'only': 0.00018812315796074496, 'though': 0.00018812315796074496, 'be': 0.00018812315796074496, 'Charles': 0.00018812315796074496, 'Among': 0.00018812315796074496, 'internal': 0.00018812315796074496, 'once': 0.00012541543864049665, 'Dick': 0.00012541543864049665, 'commit': 0.00012541543864049665, 'e': 0.00012541543864049665, 'three': 0.00012541543864049665, 'That': 0.00012541543864049665, 'make': 0.00012541543864049665, 'bring': 0.00012541543864049665, 'using': 0.00012541543864049665, '2001': 0.00012541543864049665, 'every': 0.00012541543864049665, 'why': 0.00012541543864049665, 'joined': 0.00012541543864049665, 'nor': 0.00012541543864049665, 'extreme': 0.00012541543864049665, 'violent': 0.00012541543864049665, 'And': 0.00012541543864049665, 'time': 0.00012541543864049665, 'through': 0.00012541543864049665, 'ordered': 0.00012541543864049665, 'top': 0.00012541543864049665, 'attack': 0.00012541543864049665, 'want': 0.00012541543864049665, 'saw': 0.00012541543864049665, 'out': 0.00012541543864049665, 'keep': 0.00012541543864049665, 'lead': 0.00012541543864049665, 'informed': 0.00012541543864049665, 'hit': 0.00012541543864049665, 'mentioned': 0.00012541543864049665, '12': 0.00012541543864049665, 'leader': 0.00012541543864049665, 'name': 0.00012541543864049665, 'had': 0.00012541543864049665, 'probably': 0.00012541543864049665, 'called': 0.00012541543864049665, 'until': 0.00012541543864049665, 'linked': 0.00012541543864049665, 'is': 0.00012541543864049665, 'turn': 0.00012541543864049665, 'heard': 0.00012541543864049665, 'known': 0.00012541543864049665, 'although': 0.00012541543864049665, 'No': 0.00012541543864049665, 'many': 0.00012541543864049665, 'fact': 0.00012541543864049665, 'ing': 0.00012541543864049665, 'Susan': 0.00012541543864049665, 'New': 0.00012541543864049665, 'Staff': 0.00012541543864049665, 'own': 6.270771932024833e-05, 'few': 6.270771932024833e-05, 'conduct': 6.270771932024833e-05, 'can': 6.270771932024833e-05, 'requires': 6.270771932024833e-05, 'current': 6.270771932024833e-05, 'reports': 6.270771932024833e-05, 'am': 6.270771932024833e-05, 'valued': 6.270771932024833e-05, 'Most': 6.270771932024833e-05, 'regular': 6.270771932024833e-05, '¢': 6.270771932024833e-05, 'outside': 6.270771932024833e-05, 'director': 6.270771932024833e-05, 'Director': 6.270771932024833e-05, 'Plan': 6.270771932024833e-05, 'andy': 6.270771932024833e-05, 'certain': 6.270771932024833e-05, 'support': 6.270771932024833e-05, 'At': 6.270771932024833e-05, 'even': 6.270771932024833e-05, '°': 6.270771932024833e-05, 'Several': 6.270771932024833e-05, 'relevant': 6.270771932024833e-05, 'updated': 6.270771932024833e-05, 'Individual': 6.270771932024833e-05, 'recent': 6.270771932024833e-05, '1983': 6.270771932024833e-05, '1988': 6.270771932024833e-05, 'true': 6.270771932024833e-05, 'ian': 6.270771932024833e-05, 'let': 6.270771932024833e-05, 'among': 6.270771932024833e-05, 'Then': 6.270771932024833e-05, 'everything': 6.270771932024833e-05, 'counter': 6.270771932024833e-05, 'unless': 6.270771932024833e-05, 'our': 6.270771932024833e-05, 'hand': 6.270771932024833e-05, 'testing': 6.270771932024833e-05, 'grab': 6.270771932024833e-05, 'target': 6.270771932024833e-05, 'hold': 6.270771932024833e-05, 'track': 6.270771932024833e-05, 'strike': 6.270771932024833e-05, 'down': 6.270771932024833e-05, 'us': 6.270771932024833e-05, 'aid': 6.270771932024833e-05, 'important': 6.270771932024833e-05, 'Senior': 6.270771932024833e-05, 'led': 6.270771932024833e-05, 'Missing': 6.270771932024833e-05, 'abuse': 6.270771932024833e-05, 'warn': 6.270771932024833e-05, 'sensitive': 6.270771932024833e-05, 'seen': 6.270771932024833e-05, 'inspired': 6.270771932024833e-05, 'radical': 6.270771932024833e-05, 'ers': 6.270771932024833e-05, 'plus': 6.270771932024833e-05, 'bringing': 6.270771932024833e-05, 'press': 6.270771932024833e-05, 'just': 6.270771932024833e-05, 'contact': 6.270771932024833e-05, 'core': 6.270771932024833e-05, 'four': 6.270771932024833e-05, 'getting': 6.270771932024833e-05, 'With': 6.270771932024833e-05, 'thing': 6.270771932024833e-05, 'allowed': 6.270771932024833e-05, 'register': 6.270771932024833e-05, 'To': 6.270771932024833e-05, 'any': 6.270771932024833e-05, 'Defense': 6.270771932024833e-05, 'connected': 6.270771932024833e-05, 'issues': 6.270771932024833e-05, 'give': 6.270771932024833e-05, 'Why': 6.270771932024833e-05, 'tered': 6.270771932024833e-05, 'Since': 6.270771932024833e-05, 'have': 6.270771932024833e-05, 'Where': 6.270771932024833e-05, 'wired': 6.270771932024833e-05, 'Some': 6.270771932024833e-05, 'brother': 6.270771932024833e-05, 'atives': 6.270771932024833e-05, 'asking': 6.270771932024833e-05, 'so': 6.270771932024833e-05, 'send': 6.270771932024833e-05, 'having': 6.270771932024833e-05, 'old': 6.270771932024833e-05, 'more': 6.270771932024833e-05, 'general': 6.270771932024833e-05, 'stop': 6.270771932024833e-05, 'Perhaps': 6.270771932024833e-05, 'said': 6.270771932024833e-05, 'placed': 6.270771932024833e-05, 'same': 6.270771932024833e-05, 'making': 6.270771932024833e-05, 'answer': 6.270771932024833e-05, 'keeping': 6.270771932024833e-05, 'intelligence': 6.270771932024833e-05, 'Because': 6.270771932024833e-05, 'Many': 6.270771932024833e-05, 'third': 6.270771932024833e-05, 'first': 6.270771932024833e-05, 'second': 6.270771932024833e-05, 'One': 6.270771932024833e-05, 'telling': 6.270771932024833e-05, 'est': 6.270771932024833e-05, 'Other': 6.270771932024833e-05, 'group': 6.270771932024833e-05, 'under': 6.270771932024833e-05, 'These': 6.270771932024833e-05, 'Palestinian': 6.270771932024833e-05, 'Between': 6.270771932024833e-05, 'tracking': 6.270771932024833e-05, 'inside': 6.270771932024833e-05, 'ous': 6.270771932024833e-05, 'trained': 6.270771932024833e-05, 'combat': 6.270771932024833e-05, 'illegal': 6.270771932024833e-05, 'Senator': 6.270771932024833e-05, 'him': 6.270771932024833e-05, 'early': 6.270771932024833e-05, 'since': 6.270771932024833e-05, 'Major': 6.270771932024833e-05, 'close': 6.270771932024833e-05, '1994': 6.270771932024833e-05, '390': 6.270771932024833e-05, 'take': 6.270771932024833e-05, '.': 6.270771932024833e-05, 'render': 6.270771932024833e-05, '5': 6.270771932024833e-05, 'should': 6.270771932024833e-05, 'seeking': 6.270771932024833e-05, 'names': 6.270771932024833e-05, 'are': 6.270771932024833e-05, 'paid': 6.270771932024833e-05, 'daily': 6.270771932024833e-05, 'drive': 6.270771932024833e-05, 'likely': 6.270771932024833e-05, 'Bomb': 6.270771932024833e-05, 'been': 6.270771932024833e-05, 'House': 6.270771932024833e-05, 'received': 6.270771932024833e-05, 'In': 6.270771932024833e-05, 'provided': 6.270771932024833e-05, 'place': 6.270771932024833e-05, 'come': 6.270771932024833e-05, 'day': 6.270771932024833e-05, 'seeing': 6.270771932024833e-05, 'Whereas': 6.270771932024833e-05, 'joining': 6.270771932024833e-05, 'Phoenix': 6.270771932024833e-05, 'Another': 6.270771932024833e-05, 'iting': 6.270771932024833e-05, 'show': 6.270771932024833e-05, 'report': 6.270771932024833e-05, ';': 6.270771932024833e-05, 'behind': 6.270771932024833e-05, 'contained': 6.270771932024833e-05, 'assisted': 6.270771932024833e-05, ',': 6.270771932024833e-05, 'pressed': 6.270771932024833e-05, 'Proof': 6.270771932024833e-05}\n",
            "[0.11801592776070734, 0.05675048598482473, 0.04910014422775444, 0.04621558913902302, 0.04558851194582053, 0.04339374176961184, 0.034551953345456826, 0.02313914842917163, 0.022825609832570388, 0.022386655797328653, 0.022010409481407162, 0.02125791684956418, 0.019878347024518718, 0.01937668526995673, 0.016680253339186053, 0.01530068351414059, 0.013670282811814134, 0.012792374741330657, 0.012102589828807925, 0.01122468175832445, 0.011036558600363705, 0.010221358249200476, 0.009970527371919483, 0.009594281055997994, 0.00896720386279551, 0.008904496143475263, 0.00865366526619427, 0.00859095754687402, 0.008277418950272779, 0.00783846491503104, 0.007023264563867812, 0.00670972596726657, 0.006584310528626074, 0.006521602809305826, 0.006270771932024832, 0.006208064212704584, 0.005831817896783094, 0.005706402458142597, 0.0055809870195021, 0.0055809870195021, 0.005267448422900859, 0.005079325264940114, 0.0049539098262996175, 0.004891202106979369, 0.004828494387659121, 0.004828494387659121, 0.004640371229698376, 0.004326832633097135, 0.004201417194456637, 0.004013294036495893, 0.003887878597855396, 0.0038251708785351475, 0.0037624631592148993, 0.0037624631592148993, 0.003699755439894651, 0.003699755439894651, 0.0036370477205744027, 0.0036370477205744027, 0.0033862168432934095, 0.0033862168432934095, 0.003260801404652913, 0.0031980936853326643, 0.003135385966012416, 0.0030726782466921677, 0.0030726782466921677, 0.0030726782466921677, 0.0030726782466921677, 0.0030726782466921677, 0.0030099705273719194, 0.002884555088731423, 0.002884555088731423, 0.002696431930770678, 0.002696431930770678, 0.002696431930770678, 0.002696431930770678, 0.002696431930770678, 0.0026337242114504297, 0.0025083087728099327, 0.002320185614849188, 0.002320185614849188, 0.0021947701762086913, 0.0021947701762086913, 0.0021947701762086913, 0.002132062456888443, 0.002132062456888443, 0.001943939298927698, 0.001943939298927698, 0.0016931084216467048, 0.0016931084216467048, 0.0016304007023264565, 0.0013168621057252148, 0.0013168621057252148, 0.0011287389477644698, 0.0011287389477644698, 0.0011287389477644698, 0.0010033235091239732, 0.0010033235091239732, 0.0010033235091239732, 0.0009406157898037248, 0.0009406157898037248, 0.0009406157898037248, 0.0009406157898037248, 0.0008779080704834765, 0.0008779080704834765, 0.0008779080704834765, 0.0008152003511632282, 0.0007524926318429799, 0.0007524926318429799, 0.0006897849125227316, 0.0006270771932024832, 0.0006270771932024832, 0.0005643694738822349, 0.0005643694738822349, 0.0005643694738822349, 0.0005016617545619866, 0.0005016617545619866, 0.0005016617545619866, 0.0005016617545619866, 0.0005016617545619866, 0.0005016617545619866, 0.00043895403524173826, 0.00043895403524173826, 0.00043895403524173826, 0.00043895403524173826, 0.00043895403524173826, 0.00043895403524173826, 0.0003762463159214899, 0.0003762463159214899, 0.0003762463159214899, 0.0003762463159214899, 0.0003762463159214899, 0.0003762463159214899, 0.0003762463159214899, 0.0003762463159214899, 0.0003762463159214899, 0.0003135385966012416, 0.0003135385966012416, 0.0003135385966012416, 0.0003135385966012416, 0.0003135385966012416, 0.0003135385966012416, 0.0003135385966012416, 0.0003135385966012416, 0.0003135385966012416, 0.0003135385966012416, 0.0003135385966012416, 0.0002508308772809933, 0.0002508308772809933, 0.0002508308772809933, 0.0002508308772809933, 0.0002508308772809933, 0.0002508308772809933, 0.0002508308772809933, 0.0002508308772809933, 0.0002508308772809933, 0.0002508308772809933, 0.0002508308772809933, 0.0002508308772809933, 0.00018812315796074496, 0.00018812315796074496, 0.00018812315796074496, 0.00018812315796074496, 0.00018812315796074496, 0.00018812315796074496, 0.00018812315796074496, 0.00018812315796074496, 0.00018812315796074496, 0.00018812315796074496, 0.00018812315796074496, 0.00018812315796074496, 0.00018812315796074496, 0.00018812315796074496, 0.00018812315796074496, 0.00018812315796074496, 0.00018812315796074496, 0.00018812315796074496, 0.00018812315796074496, 0.00018812315796074496, 0.00018812315796074496, 0.00018812315796074496, 0.00018812315796074496, 0.00018812315796074496, 0.00018812315796074496, 0.00018812315796074496, 0.00018812315796074496, 0.00018812315796074496, 0.00018812315796074496, 0.00018812315796074496, 0.00012541543864049665, 0.00012541543864049665, 0.00012541543864049665, 0.00012541543864049665, 0.00012541543864049665, 0.00012541543864049665, 0.00012541543864049665, 0.00012541543864049665, 0.00012541543864049665, 0.00012541543864049665, 0.00012541543864049665, 0.00012541543864049665, 0.00012541543864049665, 0.00012541543864049665, 0.00012541543864049665, 0.00012541543864049665, 0.00012541543864049665, 0.00012541543864049665, 0.00012541543864049665, 0.00012541543864049665, 0.00012541543864049665, 0.00012541543864049665, 0.00012541543864049665, 0.00012541543864049665, 0.00012541543864049665, 0.00012541543864049665, 0.00012541543864049665, 0.00012541543864049665, 0.00012541543864049665, 0.00012541543864049665, 0.00012541543864049665, 0.00012541543864049665, 0.00012541543864049665, 0.00012541543864049665, 0.00012541543864049665, 0.00012541543864049665, 0.00012541543864049665, 0.00012541543864049665, 0.00012541543864049665, 0.00012541543864049665, 0.00012541543864049665, 0.00012541543864049665, 0.00012541543864049665, 0.00012541543864049665, 0.00012541543864049665, 0.00012541543864049665, 0.00012541543864049665, 0.00012541543864049665, 0.00012541543864049665, 0.00012541543864049665, 6.270771932024833e-05, 6.270771932024833e-05, 6.270771932024833e-05, 6.270771932024833e-05, 6.270771932024833e-05, 6.270771932024833e-05, 6.270771932024833e-05, 6.270771932024833e-05, 6.270771932024833e-05, 6.270771932024833e-05, 6.270771932024833e-05, 6.270771932024833e-05, 6.270771932024833e-05, 6.270771932024833e-05, 6.270771932024833e-05, 6.270771932024833e-05, 6.270771932024833e-05, 6.270771932024833e-05, 6.270771932024833e-05, 6.270771932024833e-05, 6.270771932024833e-05, 6.270771932024833e-05, 6.270771932024833e-05, 6.270771932024833e-05, 6.270771932024833e-05, 6.270771932024833e-05, 6.270771932024833e-05, 6.270771932024833e-05, 6.270771932024833e-05, 6.270771932024833e-05, 6.270771932024833e-05, 6.270771932024833e-05, 6.270771932024833e-05, 6.270771932024833e-05, 6.270771932024833e-05, 6.270771932024833e-05, 6.270771932024833e-05, 6.270771932024833e-05, 6.270771932024833e-05, 6.270771932024833e-05, 6.270771932024833e-05, 6.270771932024833e-05, 6.270771932024833e-05, 6.270771932024833e-05, 6.270771932024833e-05, 6.270771932024833e-05, 6.270771932024833e-05, 6.270771932024833e-05, 6.270771932024833e-05, 6.270771932024833e-05, 6.270771932024833e-05, 6.270771932024833e-05, 6.270771932024833e-05, 6.270771932024833e-05, 6.270771932024833e-05, 6.270771932024833e-05, 6.270771932024833e-05, 6.270771932024833e-05, 6.270771932024833e-05, 6.270771932024833e-05, 6.270771932024833e-05, 6.270771932024833e-05, 6.270771932024833e-05, 6.270771932024833e-05, 6.270771932024833e-05, 6.270771932024833e-05, 6.270771932024833e-05, 6.270771932024833e-05, 6.270771932024833e-05, 6.270771932024833e-05, 6.270771932024833e-05, 6.270771932024833e-05, 6.270771932024833e-05, 6.270771932024833e-05, 6.270771932024833e-05, 6.270771932024833e-05, 6.270771932024833e-05, 6.270771932024833e-05, 6.270771932024833e-05, 6.270771932024833e-05, 6.270771932024833e-05, 6.270771932024833e-05, 6.270771932024833e-05, 6.270771932024833e-05, 6.270771932024833e-05, 6.270771932024833e-05, 6.270771932024833e-05, 6.270771932024833e-05, 6.270771932024833e-05, 6.270771932024833e-05, 6.270771932024833e-05, 6.270771932024833e-05, 6.270771932024833e-05, 6.270771932024833e-05, 6.270771932024833e-05, 6.270771932024833e-05, 6.270771932024833e-05, 6.270771932024833e-05, 6.270771932024833e-05, 6.270771932024833e-05, 6.270771932024833e-05, 6.270771932024833e-05, 6.270771932024833e-05, 6.270771932024833e-05, 6.270771932024833e-05, 6.270771932024833e-05, 6.270771932024833e-05, 6.270771932024833e-05, 6.270771932024833e-05, 6.270771932024833e-05, 6.270771932024833e-05, 6.270771932024833e-05, 6.270771932024833e-05, 6.270771932024833e-05, 6.270771932024833e-05, 6.270771932024833e-05, 6.270771932024833e-05, 6.270771932024833e-05, 6.270771932024833e-05, 6.270771932024833e-05, 6.270771932024833e-05, 6.270771932024833e-05, 6.270771932024833e-05, 6.270771932024833e-05, 6.270771932024833e-05, 6.270771932024833e-05, 6.270771932024833e-05, 6.270771932024833e-05, 6.270771932024833e-05, 6.270771932024833e-05, 6.270771932024833e-05, 6.270771932024833e-05, 6.270771932024833e-05, 6.270771932024833e-05, 6.270771932024833e-05, 6.270771932024833e-05, 6.270771932024833e-05, 6.270771932024833e-05, 6.270771932024833e-05, 6.270771932024833e-05, 6.270771932024833e-05, 6.270771932024833e-05, 6.270771932024833e-05, 6.270771932024833e-05, 6.270771932024833e-05, 6.270771932024833e-05, 6.270771932024833e-05, 6.270771932024833e-05, 6.270771932024833e-05, 6.270771932024833e-05, 6.270771932024833e-05, 6.270771932024833e-05, 6.270771932024833e-05, 6.270771932024833e-05, 6.270771932024833e-05, 6.270771932024833e-05, 6.270771932024833e-05, 6.270771932024833e-05, 6.270771932024833e-05, 6.270771932024833e-05, 6.270771932024833e-05, 6.270771932024833e-05, 6.270771932024833e-05, 6.270771932024833e-05, 6.270771932024833e-05, 6.270771932024833e-05]\n",
            "0.46196776823226937\n",
            "404 distinct labels, 15947 lines; 39.472772277227726 lines per label \n",
            "{'Bin': 0.11515633604601358, 'FBI': 0.05537539007526158, 'the': 0.04791042036345836, 'CIA': 0.04509575965245059, 'Ladin': 0.044483876889188034, 'al': 0.04234228721776907, 'Qaeda': 0.033714740255767, 'of': 0.02257847396438842, 'and': 0.022272532582757142, 'FAA': 0.021844214648473352, 'Clarke': 0.021477084990515816, 'interrogation': 0.020742825674600746, 'see': 0.01939668359542312, 'to': 0.01890717738481307, 'CTC': 0.016276081502784066, 'Hazmi': 0.014929939423606438, 'that': 0.013339044239123785, 'NYPD': 0.0124824083705562, 'Richard': 0.011809337330967387, 'Mihdhar': 0.010952701462399805, 'The': 0.010769136633421036, 'Berger': 0.00997368904117971, 'Taliban': 0.009728935935874686, 'Rice': 0.009361806277917151, 'Binalshibh': 0.008749923514654593, 'Abu': 0.008688735238328336, 'Al': 0.008443982133023312, 'Battalion': 0.008382793856697057, 'Binalshibh,': 0.008076852475065777, 'Usama': 0.007648534540781986, 'with': 0.00685308694854066, 'Jarrah': 0.00654714556690938, 'Berger,': 0.006424769014256869, 'Khallad': 0.006363580737930612, 'Khallad,': 0.006118827632625589, 'DOJ': 0.006057639356299333, 'bin': 0.005690509698341797, 'See': 0.005568133145689286, 'Ladin.': 0.005445756593036775, 'Moussaoui': 0.005445756593036775, 'DOD': 0.0051398152114054945, 'Ramzi': 0.004956250382426727, 'Shehhi': 0.004833873829774215, 'Condoleezza': 0.004772685553447959, 'CIA,': 0.0047114972771217034, 'Hanjour': 0.0047114972771217034, 'Samuel': 0.004527932448142936, 'by': 0.004221991066511656, 'Ahmed': 0.004099614513859144, 'Qaeda.': 0.003916049684880377, 'Islamist': 0.003793673132227865, 'Hamburg': 0.0037324848559016095, 'Pentagon': 0.0036712965795753535, 'Hadley': 0.0036712965795753535, 'Abdullah': 0.0036101083032490976, 'Qaeda,': 0.0036101083032490976, 'on': 0.0035489200269228417, 'Omar': 0.0035489200269228417, 'in': 0.003304166921617818, 'William': 0.003304166921617818, 'Bayoumi': 0.003181790368965306, 'suicide': 0.00312060209263905, 'a': 0.0030594138163127947, 'against': 0.0029982255399865388, 'for': 0.0029982255399865388, 'For': 0.0029982255399865388, 'Rumsfeld': 0.0029982255399865388, 'Yousef': 0.0029982255399865388, 'Sheikh': 0.002937037263660283, 'Hazmi,': 0.002814660711007771, 'Ali': 0.002814660711007771, 'Thomas': 0.002631095882029003, 'Sudan': 0.002631095882029003, 'nuclear': 0.002631095882029003, 'Shelton': 0.002631095882029003, 'Ressam': 0.002631095882029003, 'Ashcroft': 0.0025699076057027473, 'Sudanese': 0.0024475310530502354, 'Mohamed': 0.002263966224071468, 'Saeed': 0.002263966224071468, 'Clarke,': 0.002141589671418956, 'Nawaf': 0.002141589671418956, 'Hambali': 0.002141589671418956, 'Nashiri': 0.0020804013950927003, 'Cressey': 0.0020804013950927003, 'at': 0.0018968365661139325, 'Ghamdi': 0.0018968365661139325, 'Khalid': 0.0017744600134614208, 'from': 0.001652083460808909, 'also': 0.001652083460808909, 'an': 0.001590895184482653, 'as': 0.0012849538028513736, 'or': 0.0012849538028513736, 'senior': 0.001101388973872606, 'General': 0.001101388973872606, 'about': 0.001101388973872606, 'John': 0.001101388973872606, 'Although': 0.0009790124212200942, 'after': 0.0009790124212200942, 'On': 0.0009790124212200942, 'which': 0.0009178241448938384, 'While': 0.0009178241448938384, 'between': 0.0009178241448938384, 'Roger': 0.0009178241448938384, 'Secretary': 0.0008566358685675825, 'when': 0.0008566358685675825, 'wrote': 0.0008566358685675825, 'where': 0.0007954475922413265, 'if': 0.0007342593159150707, 'because': 0.0007342593159150707, 'Advisor': 0.0007342593159150707, 'capture': 0.0007342593159150707, 'Hugh': 0.0007342593159150707, 'kill': 0.0006730710395888148, 'asked': 0.0006118827632625588, 'whom': 0.0006118827632625588, 'Donald': 0.0006118827632625588, 'Stephen': 0.0006118827632625588, 'Laden': 0.000550694486936303, 'while': 0.000550694486936303, 'When': 0.000550694486936303, 'within': 0.0004895062106100471, 'met': 0.0004895062106100471, 'its': 0.0004895062106100471, 'including': 0.0004895062106100471, 'but': 0.0004895062106100471, 'told': 0.0004895062106100471, 'citing': 0.0004895062106100471, 'what': 0.0004283179342837912, 'But': 0.0004283179342837912, 'other': 0.0004283179342837912, 'killing': 0.0004283179342837912, 'Inside': 0.0004283179342837912, 're': 0.0004283179342837912, 'As': 0.00036712965795753535, 'all': 0.00036712965795753535, 'some': 0.00036712965795753535, 'into': 0.00036712965795753535, 'left': 0.00036712965795753535, 'President': 0.00036712965795753535, 'one': 0.00036712965795753535, 'Prince': 0.00036712965795753535, 'whether': 0.00036712965795753535, 'urged': 0.00036712965795753535, 'Mohammed': 0.00036712965795753535, 'former': 0.0003059413816312794, 'how': 0.0003059413816312794, 'regarding': 0.0003059413816312794, 'gave': 0.0003059413816312794, 'Jamal': 0.0003059413816312794, 'A': 0.0003059413816312794, 'State': 0.0003059413816312794, 'two': 0.0003059413816312794, 'named': 0.0003059413816312794, 'sent': 0.0003059413816312794, 'before': 0.0003059413816312794, 'After': 0.0003059413816312794, 'Both': 0.0003059413816312794, 'identified': 0.0003059413816312794, 'meeting': 0.0003059413816312794, 'Honorable': 0.0003059413816312794, 'Muhammad': 0.0003059413816312794, 'help': 0.00024475310530502355, 'discrete': 0.00024475310530502355, 'described': 0.00024475310530502355, 'advised': 0.00024475310530502355, 'Though': 0.00024475310530502355, 'An': 0.00024475310530502355, 'was': 0.00024475310530502355, 'capturing': 0.00024475310530502355, 'up': 0.00024475310530502355, 'If': 0.00024475310530502355, 'get': 0.00024475310530502355, 'new': 0.00024475310530502355, 'his': 0.00024475310530502355, 'either': 0.00024475310530502355, 'Against': 0.00024475310530502355, 'both': 0.00018356482897876768, 'were': 0.00018356482897876768, 'local': 0.00018356482897876768, 'did': 0.00018356482897876768, 'use': 0.00018356482897876768, 'introduced': 0.00018356482897876768, 'Yet': 0.00018356482897876768, 'accompanied': 0.00018356482897876768, 'put': 0.00018356482897876768, 'ambush': 0.00018356482897876768, 'over': 0.00018356482897876768, '1998': 0.00018356482897876768, 'reported': 0.00018356482897876768, 'approached': 0.00018356482897876768, 'deliver': 0.00018356482897876768, 'used': 0.00018356482897876768, 'like': 0.00018356482897876768, 'visit': 0.00018356482897876768, 'There': 0.00018356482897876768, 'thought': 0.00018356482897876768, 'arrested': 0.00018356482897876768, 'ask': 0.00018356482897876768, 'find': 0.00018356482897876768, 'included': 0.00018356482897876768, 'Neither': 0.00018356482897876768, 'instructed': 0.00018356482897876768, 'recalled': 0.00018356482897876768, 'who': 0.00018356482897876768, 'remembers': 0.00018356482897876768, 'meet': 0.00018356482897876768, 'Aziz': 0.00018356482897876768, 'says': 0.00018356482897876768, 'another': 0.00018356482897876768, 'Two': 0.00018356482897876768, 'no': 0.00018356482897876768, 'only': 0.00018356482897876768, 'though': 0.00018356482897876768, 'be': 0.00018356482897876768, 'helped': 0.00018356482897876768, 'Charles': 0.00018356482897876768, 'Among': 0.00018356482897876768, 'internal': 0.00018356482897876768, 'once': 0.00012237655265251178, 'Dick': 0.00012237655265251178, 'commit': 0.00012237655265251178, 'e': 0.00012237655265251178, 'describe': 0.00012237655265251178, 'praised': 0.00012237655265251178, 'three': 0.00012237655265251178, 'That': 0.00012237655265251178, 'make': 0.00012237655265251178, 'bring': 0.00012237655265251178, 'attacking': 0.00012237655265251178, 'Sandy': 0.00012237655265251178, 'using': 0.00012237655265251178, '2001': 0.00012237655265251178, 'every': 0.00012237655265251178, 'why': 0.00012237655265251178, 'joined': 0.00012237655265251178, 'possible': 0.00012237655265251178, 'nor': 0.00012237655265251178, 'reached': 0.00012237655265251178, 'neither': 0.00012237655265251178, 'extreme': 0.00012237655265251178, 'violent': 0.00012237655265251178, 'become': 0.00012237655265251178, 'wanted': 0.00012237655265251178, 'And': 0.00012237655265251178, 'viewed': 0.00012237655265251178, 'time': 0.00012237655265251178, 'through': 0.00012237655265251178, 'investigating': 0.00012237655265251178, 'Blind': 0.00012237655265251178, 'ordered': 0.00012237655265251178, 'top': 0.00012237655265251178, 'attack': 0.00012237655265251178, 'want': 0.00012237655265251178, 'saw': 0.00012237655265251178, 'out': 0.00012237655265251178, 'keep': 0.00012237655265251178, 'lead': 0.00012237655265251178, 'informed': 0.00012237655265251178, 'hit': 0.00012237655265251178, 'missed': 0.00012237655265251178, 'mentioned': 0.00012237655265251178, 'discussed': 0.00012237655265251178, 'captured': 0.00012237655265251178, '12': 0.00012237655265251178, 'targeting': 0.00012237655265251178, 'nephew': 0.00012237655265251178, 'leader': 0.00012237655265251178, 'persuaded': 0.00012237655265251178, 'knew': 0.00012237655265251178, 'contacted': 0.00012237655265251178, 'name': 0.00012237655265251178, '1990s': 0.00012237655265251178, 'had': 0.00012237655265251178, 'various': 0.00012237655265251178, 'probably': 0.00012237655265251178, 'warned': 0.00012237655265251178, 'called': 0.00012237655265251178, 'until': 0.00012237655265251178, 'linked': 0.00012237655265251178, 'recall': 0.00012237655265251178, 'is': 0.00012237655265251178, 'provide': 0.00012237655265251178, 'turn': 0.00012237655265251178, 'beyond': 0.00012237655265251178, 'heard': 0.00012237655265251178, 'known': 0.00012237655265251178, 'listing': 0.00012237655265251178, 'although': 0.00012237655265251178, 'encouraged': 0.00012237655265251178, 'understood': 0.00012237655265251178, 'tasked': 0.00012237655265251178, 'departed': 0.00012237655265251178, 'claims': 0.00012237655265251178, 'Acting': 0.00012237655265251178, 'lieutenant': 0.00012237655265251178, 'No': 0.00012237655265251178, 'many': 0.00012237655265251178, 'locate': 0.00012237655265251178, 'fact': 0.00012237655265251178, 'ing': 0.00012237655265251178, 'potential': 0.00012237655265251178, 'visited': 0.00012237655265251178, 'Susan': 0.00012237655265251178, 'New': 0.00012237655265251178, 'Staff': 0.00012237655265251178, 'sending': 0.00012237655265251178, 'accompanying': 0.00012237655265251178, 'placing': 0.00012237655265251178, 'governed': 6.118827632625589e-05, 'own': 6.118827632625589e-05, 'few': 6.118827632625589e-05, 'faults': 6.118827632625589e-05, 'conduct': 6.118827632625589e-05, 'wants': 6.118827632625589e-05, 'can': 6.118827632625589e-05, 'requires': 6.118827632625589e-05, 'current': 6.118827632625589e-05, 'undertaking': 6.118827632625589e-05, 'reports': 6.118827632625589e-05, 'am': 6.118827632625589e-05, 'valued': 6.118827632625589e-05, 'Most': 6.118827632625589e-05, 'regular': 6.118827632625589e-05, '¢': 6.118827632625589e-05, 'outside': 6.118827632625589e-05, 'director': 6.118827632625589e-05, 'Director': 6.118827632625589e-05, 'Plan': 6.118827632625589e-05, 'certain': 6.118827632625589e-05, 'rebuild': 6.118827632625589e-05, 'support': 6.118827632625589e-05, 'At': 6.118827632625589e-05, 'entire': 6.118827632625589e-05, 'even': 6.118827632625589e-05, '°': 6.118827632625589e-05, 'Several': 6.118827632625589e-05, 'relevant': 6.118827632625589e-05, 'mistaken': 6.118827632625589e-05, 'updated': 6.118827632625589e-05, 'Individual': 6.118827632625589e-05, 'exile': 6.118827632625589e-05, 'recent': 6.118827632625589e-05, '1983': 6.118827632625589e-05, 'unprecedented': 6.118827632625589e-05, '1988': 6.118827632625589e-05, 'true': 6.118827632625589e-05, 'Egyptian': 6.118827632625589e-05, 'let': 6.118827632625589e-05, 'silence': 6.118827632625589e-05, 'among': 6.118827632625589e-05, 'allied': 6.118827632625589e-05, 'Then': 6.118827632625589e-05, 'everything': 6.118827632625589e-05, 'leaving': 6.118827632625589e-05, 'promised': 6.118827632625589e-05, 'offered': 6.118827632625589e-05, 'difficulties': 6.118827632625589e-05, 'clever': 6.118827632625589e-05, 'indicted': 6.118827632625589e-05, 'obvious': 6.118827632625589e-05, 'longtime': 6.118827632625589e-05, 'counter': 6.118827632625589e-05, 'wary': 6.118827632625589e-05, 'Intelligence': 6.118827632625589e-05, 'servant': 6.118827632625589e-05, 'unless': 6.118827632625589e-05, 'our': 6.118827632625589e-05, 'designated': 6.118827632625589e-05, 'obtain': 6.118827632625589e-05, 'hand': 6.118827632625589e-05, 'testing': 6.118827632625589e-05, 'grab': 6.118827632625589e-05, 'target': 6.118827632625589e-05, 'hold': 6.118827632625589e-05, 'track': 6.118827632625589e-05, 'hurt': 6.118827632625589e-05, 'strike': 6.118827632625589e-05, 'toward': 6.118827632625589e-05, 'concerning': 6.118827632625589e-05, 'down': 6.118827632625589e-05, 'us': 6.118827632625589e-05, 'aid': 6.118827632625589e-05, 'possessing': 6.118827632625589e-05, 'quoted': 6.118827632625589e-05, 'hosting': 6.118827632625589e-05, 'important': 6.118827632625589e-05, 'Senior': 6.118827632625589e-05, 'led': 6.118827632625589e-05, 'suggests': 6.118827632625589e-05, 'alleged': 6.118827632625589e-05, 'imminent': 6.118827632625589e-05, 'indicated': 6.118827632625589e-05, 'Missing': 6.118827632625589e-05, 'abuse': 6.118827632625589e-05, 'adopt': 6.118827632625589e-05, 'warn': 6.118827632625589e-05, 'questioned': 6.118827632625589e-05, 'involving': 6.118827632625589e-05, 'guarded': 6.118827632625589e-05, 'sensitive': 6.118827632625589e-05, 'seen': 6.118827632625589e-05, 'visiting': 6.118827632625589e-05, 'accepted': 6.118827632625589e-05, 'associate': 6.118827632625589e-05, 'inspired': 6.118827632625589e-05, 'radical': 6.118827632625589e-05, 'encountered': 6.118827632625589e-05, 'Mohammad': 6.118827632625589e-05, 'consult': 6.118827632625589e-05, 'plus': 6.118827632625589e-05, 'bringing': 6.118827632625589e-05, 'took': 6.118827632625589e-05, 'press': 6.118827632625589e-05, 'just': 6.118827632625589e-05, 'contact': 6.118827632625589e-05, 'core': 6.118827632625589e-05, 'persuade': 6.118827632625589e-05, 'four': 6.118827632625589e-05, 'getting': 6.118827632625589e-05, 'enhancing': 6.118827632625589e-05, 'With': 6.118827632625589e-05, 'thing': 6.118827632625589e-05, 'Coordinator': 6.118827632625589e-05, 'Ambassador': 6.118827632625589e-05, 'suspected': 6.118827632625589e-05, 'assist': 6.118827632625589e-05, 'allowed': 6.118827632625589e-05, 'referred': 6.118827632625589e-05, 'register': 6.118827632625589e-05, 'To': 6.118827632625589e-05, 'any': 6.118827632625589e-05, 'Defense': 6.118827632625589e-05, 'connected': 6.118827632625589e-05, 'issues': 6.118827632625589e-05, 'give': 6.118827632625589e-05, 'influence': 6.118827632625589e-05, 'Chairman': 6.118827632625589e-05, 'Why': 6.118827632625589e-05, 'knowing': 6.118827632625589e-05, 'Since': 6.118827632625589e-05, 'have': 6.118827632625589e-05, 'helping': 6.118827632625589e-05, 'strand': 6.118827632625589e-05, 'Where': 6.118827632625589e-05, 'wired': 6.118827632625589e-05, 'Some': 6.118827632625589e-05, 'drove': 6.118827632625589e-05, 'brother': 6.118827632625589e-05, 'abandoned': 6.118827632625589e-05, 'deemed': 6.118827632625589e-05, 'asking': 6.118827632625589e-05, 'sons': 6.118827632625589e-05, 'so': 6.118827632625589e-05, 'send': 6.118827632625589e-05, 'prepare': 6.118827632625589e-05, 'considering': 6.118827632625589e-05, 'assumed': 6.118827632625589e-05, 'having': 6.118827632625589e-05, 'old': 6.118827632625589e-05, 'more': 6.118827632625589e-05, 'general': 6.118827632625589e-05, 'stop': 6.118827632625589e-05, 'Perhaps': 6.118827632625589e-05, 'said': 6.118827632625589e-05, 'indicate': 6.118827632625589e-05, 'bomber': 6.118827632625589e-05, 'considers': 6.118827632625589e-05, 'ongoing': 6.118827632625589e-05, 'assure': 6.118827632625589e-05, 'placed': 6.118827632625589e-05, 'same': 6.118827632625589e-05, 'making': 6.118827632625589e-05, 'dangerous': 6.118827632625589e-05, 'answer': 6.118827632625589e-05, 'keeping': 6.118827632625589e-05, 'intelligence': 6.118827632625589e-05, 'Because': 6.118827632625589e-05, 'Many': 6.118827632625589e-05, 'Minneapolis': 6.118827632625589e-05, 'prevent': 6.118827632625589e-05, 'recognized': 6.118827632625589e-05, 'investigate': 6.118827632625589e-05, 'Numerous': 6.118827632625589e-05, 'third': 6.118827632625589e-05, 'first': 6.118827632625589e-05, 'second': 6.118827632625589e-05, 'One': 6.118827632625589e-05, 'telling': 6.118827632625589e-05, 'est': 6.118827632625589e-05, 'Other': 6.118827632625589e-05, 'group': 6.118827632625589e-05, 'implicated': 6.118827632625589e-05, 'under': 6.118827632625589e-05, 'surrender': 6.118827632625589e-05, 'produce': 6.118827632625589e-05, 'These': 6.118827632625589e-05, 'Palestinian': 6.118827632625589e-05, 'Between': 6.118827632625589e-05, 'challenging': 6.118827632625589e-05, 'mention': 6.118827632625589e-05, 'learned': 6.118827632625589e-05, 'tracking': 6.118827632625589e-05, 'several': 6.118827632625589e-05, 'inside': 6.118827632625589e-05, 'possesses': 6.118827632625589e-05, 'worldwide': 6.118827632625589e-05, 'trained': 6.118827632625589e-05, 'combat': 6.118827632625589e-05, 'illegal': 6.118827632625589e-05, 'identify': 6.118827632625589e-05, 'addressing': 6.118827632625589e-05, 'Hassan': 6.118827632625589e-05, 'Senator': 6.118827632625589e-05, 'overhead': 6.118827632625589e-05, 'contacts': 6.118827632625589e-05, 'Evan': 6.118827632625589e-05, 'him': 6.118827632625589e-05, 'regard': 6.118827632625589e-05, 'early': 6.118827632625589e-05, 'since': 6.118827632625589e-05, 'Major': 6.118827632625589e-05, 'unsuccessful': 6.118827632625589e-05, 'close': 6.118827632625589e-05, '1994': 6.118827632625589e-05, 'describing': 6.118827632625589e-05, '390': 6.118827632625589e-05, 'supposed': 6.118827632625589e-05, 'take': 6.118827632625589e-05, '.': 6.118827632625589e-05, 'render': 6.118827632625589e-05, 'freeze': 6.118827632625589e-05, 'attached': 6.118827632625589e-05, '5': 6.118827632625589e-05, 'passport': 6.118827632625589e-05, 'should': 6.118827632625589e-05, 'whereas': 6.118827632625589e-05, 'describes': 6.118827632625589e-05, 'credited': 6.118827632625589e-05, 'whenever': 6.118827632625589e-05, 'summon': 6.118827632625589e-05, 'seeking': 6.118827632625589e-05, 'presented': 6.118827632625589e-05, 'names': 6.118827632625589e-05, 'pulled': 6.118827632625589e-05, 'depicts': 6.118827632625589e-05, 'are': 6.118827632625589e-05, 'paid': 6.118827632625589e-05, 'cleaning': 6.118827632625589e-05, 'following': 6.118827632625589e-05, 'daily': 6.118827632625589e-05, 'detailing': 6.118827632625589e-05, 'drive': 6.118827632625589e-05, 'likely': 6.118827632625589e-05, 'packet': 6.118827632625589e-05, 'advising': 6.118827632625589e-05, 'Bomb': 6.118827632625589e-05, 'thinks': 6.118827632625589e-05, 'been': 6.118827632625589e-05, 'House': 6.118827632625589e-05, 'received': 6.118827632625589e-05, 'providing': 6.118827632625589e-05, 'In': 6.118827632625589e-05, 'provided': 6.118827632625589e-05, 'place': 6.118827632625589e-05, 'introducing': 6.118827632625589e-05, 'come': 6.118827632625589e-05, 'day': 6.118827632625589e-05, 'seeing': 6.118827632625589e-05, 'Whereas': 6.118827632625589e-05, 'promise': 6.118827632625589e-05, 'notified': 6.118827632625589e-05, 'joining': 6.118827632625589e-05, 'Phoenix': 6.118827632625589e-05, 'reportedly': 6.118827632625589e-05, 'Another': 6.118827632625589e-05, 'approach': 6.118827632625589e-05, 'show': 6.118827632625589e-05, 'report': 6.118827632625589e-05, ';': 6.118827632625589e-05, 'behind': 6.118827632625589e-05, 'discussing': 6.118827632625589e-05, 'contained': 6.118827632625589e-05, 'adviser': 6.118827632625589e-05, 'deny': 6.118827632625589e-05, 'assisted': 6.118827632625589e-05, 'discouraged': 6.118827632625589e-05, ',': 6.118827632625589e-05, 'consulted': 6.118827632625589e-05, 'pressed': 6.118827632625589e-05}\n",
            "[0.11515633604601358, 0.05537539007526158, 0.04791042036345836, 0.04509575965245059, 0.044483876889188034, 0.04234228721776907, 0.033714740255767, 0.02257847396438842, 0.022272532582757142, 0.021844214648473352, 0.021477084990515816, 0.020742825674600746, 0.01939668359542312, 0.01890717738481307, 0.016276081502784066, 0.014929939423606438, 0.013339044239123785, 0.0124824083705562, 0.011809337330967387, 0.010952701462399805, 0.010769136633421036, 0.00997368904117971, 0.009728935935874686, 0.009361806277917151, 0.008749923514654593, 0.008688735238328336, 0.008443982133023312, 0.008382793856697057, 0.008076852475065777, 0.007648534540781986, 0.00685308694854066, 0.00654714556690938, 0.006424769014256869, 0.006363580737930612, 0.006118827632625589, 0.006057639356299333, 0.005690509698341797, 0.005568133145689286, 0.005445756593036775, 0.005445756593036775, 0.0051398152114054945, 0.004956250382426727, 0.004833873829774215, 0.004772685553447959, 0.0047114972771217034, 0.0047114972771217034, 0.004527932448142936, 0.004221991066511656, 0.004099614513859144, 0.003916049684880377, 0.003793673132227865, 0.0037324848559016095, 0.0036712965795753535, 0.0036712965795753535, 0.0036101083032490976, 0.0036101083032490976, 0.0035489200269228417, 0.0035489200269228417, 0.003304166921617818, 0.003304166921617818, 0.003181790368965306, 0.00312060209263905, 0.0030594138163127947, 0.0029982255399865388, 0.0029982255399865388, 0.0029982255399865388, 0.0029982255399865388, 0.0029982255399865388, 0.002937037263660283, 0.002814660711007771, 0.002814660711007771, 0.002631095882029003, 0.002631095882029003, 0.002631095882029003, 0.002631095882029003, 0.002631095882029003, 0.0025699076057027473, 0.0024475310530502354, 0.002263966224071468, 0.002263966224071468, 0.002141589671418956, 0.002141589671418956, 0.002141589671418956, 0.0020804013950927003, 0.0020804013950927003, 0.0018968365661139325, 0.0018968365661139325, 0.0017744600134614208, 0.001652083460808909, 0.001652083460808909, 0.001590895184482653, 0.0012849538028513736, 0.0012849538028513736, 0.001101388973872606, 0.001101388973872606, 0.001101388973872606, 0.001101388973872606, 0.0009790124212200942, 0.0009790124212200942, 0.0009790124212200942, 0.0009178241448938384, 0.0009178241448938384, 0.0009178241448938384, 0.0009178241448938384, 0.0008566358685675825, 0.0008566358685675825, 0.0008566358685675825, 0.0007954475922413265, 0.0007342593159150707, 0.0007342593159150707, 0.0007342593159150707, 0.0007342593159150707, 0.0007342593159150707, 0.0006730710395888148, 0.0006118827632625588, 0.0006118827632625588, 0.0006118827632625588, 0.0006118827632625588, 0.000550694486936303, 0.000550694486936303, 0.000550694486936303, 0.0004895062106100471, 0.0004895062106100471, 0.0004895062106100471, 0.0004895062106100471, 0.0004895062106100471, 0.0004895062106100471, 0.0004895062106100471, 0.0004283179342837912, 0.0004283179342837912, 0.0004283179342837912, 0.0004283179342837912, 0.0004283179342837912, 0.0004283179342837912, 0.00036712965795753535, 0.00036712965795753535, 0.00036712965795753535, 0.00036712965795753535, 0.00036712965795753535, 0.00036712965795753535, 0.00036712965795753535, 0.00036712965795753535, 0.00036712965795753535, 0.00036712965795753535, 0.00036712965795753535, 0.0003059413816312794, 0.0003059413816312794, 0.0003059413816312794, 0.0003059413816312794, 0.0003059413816312794, 0.0003059413816312794, 0.0003059413816312794, 0.0003059413816312794, 0.0003059413816312794, 0.0003059413816312794, 0.0003059413816312794, 0.0003059413816312794, 0.0003059413816312794, 0.0003059413816312794, 0.0003059413816312794, 0.0003059413816312794, 0.0003059413816312794, 0.00024475310530502355, 0.00024475310530502355, 0.00024475310530502355, 0.00024475310530502355, 0.00024475310530502355, 0.00024475310530502355, 0.00024475310530502355, 0.00024475310530502355, 0.00024475310530502355, 0.00024475310530502355, 0.00024475310530502355, 0.00024475310530502355, 0.00024475310530502355, 0.00024475310530502355, 0.00024475310530502355, 0.00018356482897876768, 0.00018356482897876768, 0.00018356482897876768, 0.00018356482897876768, 0.00018356482897876768, 0.00018356482897876768, 0.00018356482897876768, 0.00018356482897876768, 0.00018356482897876768, 0.00018356482897876768, 0.00018356482897876768, 0.00018356482897876768, 0.00018356482897876768, 0.00018356482897876768, 0.00018356482897876768, 0.00018356482897876768, 0.00018356482897876768, 0.00018356482897876768, 0.00018356482897876768, 0.00018356482897876768, 0.00018356482897876768, 0.00018356482897876768, 0.00018356482897876768, 0.00018356482897876768, 0.00018356482897876768, 0.00018356482897876768, 0.00018356482897876768, 0.00018356482897876768, 0.00018356482897876768, 0.00018356482897876768, 0.00018356482897876768, 0.00018356482897876768, 0.00018356482897876768, 0.00018356482897876768, 0.00018356482897876768, 0.00018356482897876768, 0.00018356482897876768, 0.00018356482897876768, 0.00018356482897876768, 0.00018356482897876768, 0.00018356482897876768, 0.00018356482897876768, 0.00012237655265251178, 0.00012237655265251178, 0.00012237655265251178, 0.00012237655265251178, 0.00012237655265251178, 0.00012237655265251178, 0.00012237655265251178, 0.00012237655265251178, 0.00012237655265251178, 0.00012237655265251178, 0.00012237655265251178, 0.00012237655265251178, 0.00012237655265251178, 0.00012237655265251178, 0.00012237655265251178, 0.00012237655265251178, 0.00012237655265251178, 0.00012237655265251178, 0.00012237655265251178, 0.00012237655265251178, 0.00012237655265251178, 0.00012237655265251178, 0.00012237655265251178, 0.00012237655265251178, 0.00012237655265251178, 0.00012237655265251178, 0.00012237655265251178, 0.00012237655265251178, 0.00012237655265251178, 0.00012237655265251178, 0.00012237655265251178, 0.00012237655265251178, 0.00012237655265251178, 0.00012237655265251178, 0.00012237655265251178, 0.00012237655265251178, 0.00012237655265251178, 0.00012237655265251178, 0.00012237655265251178, 0.00012237655265251178, 0.00012237655265251178, 0.00012237655265251178, 0.00012237655265251178, 0.00012237655265251178, 0.00012237655265251178, 0.00012237655265251178, 0.00012237655265251178, 0.00012237655265251178, 0.00012237655265251178, 0.00012237655265251178, 0.00012237655265251178, 0.00012237655265251178, 0.00012237655265251178, 0.00012237655265251178, 0.00012237655265251178, 0.00012237655265251178, 0.00012237655265251178, 0.00012237655265251178, 0.00012237655265251178, 0.00012237655265251178, 0.00012237655265251178, 0.00012237655265251178, 0.00012237655265251178, 0.00012237655265251178, 0.00012237655265251178, 0.00012237655265251178, 0.00012237655265251178, 0.00012237655265251178, 0.00012237655265251178, 0.00012237655265251178, 0.00012237655265251178, 0.00012237655265251178, 0.00012237655265251178, 0.00012237655265251178, 0.00012237655265251178, 0.00012237655265251178, 0.00012237655265251178, 0.00012237655265251178, 0.00012237655265251178, 0.00012237655265251178, 0.00012237655265251178, 0.00012237655265251178, 0.00012237655265251178, 0.00012237655265251178, 0.00012237655265251178, 0.00012237655265251178, 0.00012237655265251178, 0.00012237655265251178, 0.00012237655265251178, 0.00012237655265251178, 6.118827632625589e-05, 6.118827632625589e-05, 6.118827632625589e-05, 6.118827632625589e-05, 6.118827632625589e-05, 6.118827632625589e-05, 6.118827632625589e-05, 6.118827632625589e-05, 6.118827632625589e-05, 6.118827632625589e-05, 6.118827632625589e-05, 6.118827632625589e-05, 6.118827632625589e-05, 6.118827632625589e-05, 6.118827632625589e-05, 6.118827632625589e-05, 6.118827632625589e-05, 6.118827632625589e-05, 6.118827632625589e-05, 6.118827632625589e-05, 6.118827632625589e-05, 6.118827632625589e-05, 6.118827632625589e-05, 6.118827632625589e-05, 6.118827632625589e-05, 6.118827632625589e-05, 6.118827632625589e-05, 6.118827632625589e-05, 6.118827632625589e-05, 6.118827632625589e-05, 6.118827632625589e-05, 6.118827632625589e-05, 6.118827632625589e-05, 6.118827632625589e-05, 6.118827632625589e-05, 6.118827632625589e-05, 6.118827632625589e-05, 6.118827632625589e-05, 6.118827632625589e-05, 6.118827632625589e-05, 6.118827632625589e-05, 6.118827632625589e-05, 6.118827632625589e-05, 6.118827632625589e-05, 6.118827632625589e-05, 6.118827632625589e-05, 6.118827632625589e-05, 6.118827632625589e-05, 6.118827632625589e-05, 6.118827632625589e-05, 6.118827632625589e-05, 6.118827632625589e-05, 6.118827632625589e-05, 6.118827632625589e-05, 6.118827632625589e-05, 6.118827632625589e-05, 6.118827632625589e-05, 6.118827632625589e-05, 6.118827632625589e-05, 6.118827632625589e-05, 6.118827632625589e-05, 6.118827632625589e-05, 6.118827632625589e-05, 6.118827632625589e-05, 6.118827632625589e-05, 6.118827632625589e-05, 6.118827632625589e-05, 6.118827632625589e-05, 6.118827632625589e-05, 6.118827632625589e-05, 6.118827632625589e-05, 6.118827632625589e-05, 6.118827632625589e-05, 6.118827632625589e-05, 6.118827632625589e-05, 6.118827632625589e-05, 6.118827632625589e-05, 6.118827632625589e-05, 6.118827632625589e-05, 6.118827632625589e-05, 6.118827632625589e-05, 6.118827632625589e-05, 6.118827632625589e-05, 6.118827632625589e-05, 6.118827632625589e-05, 6.118827632625589e-05, 6.118827632625589e-05, 6.118827632625589e-05, 6.118827632625589e-05, 6.118827632625589e-05, 6.118827632625589e-05, 6.118827632625589e-05, 6.118827632625589e-05, 6.118827632625589e-05, 6.118827632625589e-05, 6.118827632625589e-05, 6.118827632625589e-05, 6.118827632625589e-05, 6.118827632625589e-05, 6.118827632625589e-05, 6.118827632625589e-05, 6.118827632625589e-05, 6.118827632625589e-05, 6.118827632625589e-05, 6.118827632625589e-05, 6.118827632625589e-05, 6.118827632625589e-05, 6.118827632625589e-05, 6.118827632625589e-05, 6.118827632625589e-05, 6.118827632625589e-05, 6.118827632625589e-05, 6.118827632625589e-05, 6.118827632625589e-05, 6.118827632625589e-05, 6.118827632625589e-05, 6.118827632625589e-05, 6.118827632625589e-05, 6.118827632625589e-05, 6.118827632625589e-05, 6.118827632625589e-05, 6.118827632625589e-05, 6.118827632625589e-05, 6.118827632625589e-05, 6.118827632625589e-05, 6.118827632625589e-05, 6.118827632625589e-05, 6.118827632625589e-05, 6.118827632625589e-05, 6.118827632625589e-05, 6.118827632625589e-05, 6.118827632625589e-05, 6.118827632625589e-05, 6.118827632625589e-05, 6.118827632625589e-05, 6.118827632625589e-05, 6.118827632625589e-05, 6.118827632625589e-05, 6.118827632625589e-05, 6.118827632625589e-05, 6.118827632625589e-05, 6.118827632625589e-05, 6.118827632625589e-05, 6.118827632625589e-05, 6.118827632625589e-05, 6.118827632625589e-05, 6.118827632625589e-05, 6.118827632625589e-05, 6.118827632625589e-05, 6.118827632625589e-05, 6.118827632625589e-05, 6.118827632625589e-05, 6.118827632625589e-05, 6.118827632625589e-05, 6.118827632625589e-05, 6.118827632625589e-05, 6.118827632625589e-05, 6.118827632625589e-05, 6.118827632625589e-05, 6.118827632625589e-05, 6.118827632625589e-05, 6.118827632625589e-05, 6.118827632625589e-05, 6.118827632625589e-05, 6.118827632625589e-05, 6.118827632625589e-05, 6.118827632625589e-05, 6.118827632625589e-05, 6.118827632625589e-05, 6.118827632625589e-05, 6.118827632625589e-05, 6.118827632625589e-05, 6.118827632625589e-05, 6.118827632625589e-05, 6.118827632625589e-05, 6.118827632625589e-05, 6.118827632625589e-05, 6.118827632625589e-05, 6.118827632625589e-05, 6.118827632625589e-05, 6.118827632625589e-05, 6.118827632625589e-05, 6.118827632625589e-05, 6.118827632625589e-05, 6.118827632625589e-05, 6.118827632625589e-05, 6.118827632625589e-05, 6.118827632625589e-05, 6.118827632625589e-05, 6.118827632625589e-05, 6.118827632625589e-05, 6.118827632625589e-05, 6.118827632625589e-05, 6.118827632625589e-05, 6.118827632625589e-05, 6.118827632625589e-05, 6.118827632625589e-05, 6.118827632625589e-05, 6.118827632625589e-05, 6.118827632625589e-05, 6.118827632625589e-05, 6.118827632625589e-05, 6.118827632625589e-05, 6.118827632625589e-05, 6.118827632625589e-05, 6.118827632625589e-05, 6.118827632625589e-05, 6.118827632625589e-05, 6.118827632625589e-05, 6.118827632625589e-05, 6.118827632625589e-05, 6.118827632625589e-05, 6.118827632625589e-05, 6.118827632625589e-05, 6.118827632625589e-05, 6.118827632625589e-05, 6.118827632625589e-05, 6.118827632625589e-05, 6.118827632625589e-05, 6.118827632625589e-05, 6.118827632625589e-05, 6.118827632625589e-05, 6.118827632625589e-05, 6.118827632625589e-05, 6.118827632625589e-05, 6.118827632625589e-05, 6.118827632625589e-05, 6.118827632625589e-05, 6.118827632625589e-05, 6.118827632625589e-05, 6.118827632625589e-05, 6.118827632625589e-05, 6.118827632625589e-05, 6.118827632625589e-05, 6.118827632625589e-05, 6.118827632625589e-05, 6.118827632625589e-05, 6.118827632625589e-05, 6.118827632625589e-05, 6.118827632625589e-05, 6.118827632625589e-05, 6.118827632625589e-05, 6.118827632625589e-05, 6.118827632625589e-05, 6.118827632625589e-05, 6.118827632625589e-05, 6.118827632625589e-05, 6.118827632625589e-05, 6.118827632625589e-05, 6.118827632625589e-05, 6.118827632625589e-05, 6.118827632625589e-05, 6.118827632625589e-05, 6.118827632625589e-05, 6.118827632625589e-05, 6.118827632625589e-05, 6.118827632625589e-05, 6.118827632625589e-05, 6.118827632625589e-05, 6.118827632625589e-05, 6.118827632625589e-05, 6.118827632625589e-05, 6.118827632625589e-05, 6.118827632625589e-05, 6.118827632625589e-05, 6.118827632625589e-05, 6.118827632625589e-05, 6.118827632625589e-05, 6.118827632625589e-05, 6.118827632625589e-05, 6.118827632625589e-05, 6.118827632625589e-05, 6.118827632625589e-05, 6.118827632625589e-05, 6.118827632625589e-05, 6.118827632625589e-05, 6.118827632625589e-05, 6.118827632625589e-05, 6.118827632625589e-05, 6.118827632625589e-05, 6.118827632625589e-05]\n",
            "0.4507740316955271\n",
            "590 distinct labels, 16343 lines; 27.7 lines per label \n",
            "{'Bin': 0.11801592776070734, 'FBI': 0.05675048598482473, 'the': 0.04910014422775444, 'CIA': 0.04621558913902302, 'Ladin': 0.04558851194582053, 'al': 0.04339374176961184, 'Qaeda': 0.034551953345456826, 'of': 0.02313914842917163, 'and': 0.022825609832570388, 'FAA': 0.022386655797328653, 'Clarke': 0.022010409481407162, 'interrogation': 0.02125791684956418, 'see': 0.019878347024518718, 'to': 0.01937668526995673, 'CTC': 0.016680253339186053, 'Hazmi': 0.01530068351414059, 'that': 0.013670282811814134, 'NYPD': 0.012792374741330657, 'Richard': 0.012102589828807925, 'Mihdhar': 0.01122468175832445, 'The': 0.011036558600363705, 'Berger': 0.010221358249200476, 'Taliban': 0.009970527371919483, 'Rice': 0.009594281055997994, 'Binalshibh': 0.00896720386279551, 'Abu': 0.008904496143475263, 'Al': 0.00865366526619427, 'Battalion': 0.00859095754687402, 'Binalshibh,': 0.008277418950272779, 'Usama': 0.00783846491503104, 'with': 0.007023264563867812, 'Jarrah': 0.00670972596726657, 'Berger,': 0.006584310528626074, 'Khallad': 0.006521602809305826, 'Khallad,': 0.006270771932024832, 'DOJ': 0.006208064212704584, 'bin': 0.005831817896783094, 'See': 0.005706402458142597, 'Ladin.': 0.0055809870195021, 'Moussaoui': 0.0055809870195021, 'DOD': 0.005267448422900859, 'Ramzi': 0.005079325264940114, 'Shehhi': 0.0049539098262996175, 'Condoleezza': 0.004891202106979369, 'CIA,': 0.004828494387659121, 'Hanjour': 0.004828494387659121, 'Samuel': 0.004640371229698376, 'by': 0.004326832633097135, 'Ahmed': 0.004201417194456637, 'Qaeda.': 0.004013294036495893, 'Islamist': 0.003887878597855396, 'Hamburg': 0.0038251708785351475, 'Pentagon': 0.0037624631592148993, 'Hadley': 0.0037624631592148993, 'Abdullah': 0.003699755439894651, 'Qaeda,': 0.003699755439894651, 'on': 0.0036370477205744027, 'Omar': 0.0036370477205744027, 'in': 0.0033862168432934095, 'William': 0.0033862168432934095, 'Bayoumi': 0.003260801404652913, 'suicide': 0.0031980936853326643, 'a': 0.003135385966012416, 'against': 0.0030726782466921677, 'for': 0.0030726782466921677, 'For': 0.0030726782466921677, 'Rumsfeld': 0.0030726782466921677, 'Yousef': 0.0030726782466921677, 'Sheikh': 0.0030099705273719194, 'Hazmi,': 0.002884555088731423, 'Ali': 0.002884555088731423, 'Thomas': 0.002696431930770678, 'Sudan': 0.002696431930770678, 'nuclear': 0.002696431930770678, 'Shelton': 0.002696431930770678, 'Ressam': 0.002696431930770678, 'Ashcroft': 0.0026337242114504297, 'Sudanese': 0.0025083087728099327, 'Mohamed': 0.002320185614849188, 'Saeed': 0.002320185614849188, 'Clarke,': 0.0021947701762086913, 'Nawaf': 0.0021947701762086913, 'Hambali': 0.0021947701762086913, 'Nashiri': 0.002132062456888443, 'Cressey': 0.002132062456888443, 'at': 0.001943939298927698, 'Ghamdi': 0.001943939298927698, 'from': 0.0016931084216467048, 'also': 0.0016931084216467048, 'an': 0.0016304007023264565, 'as': 0.0013168621057252148, 'or': 0.0013168621057252148, 'General': 0.0011287389477644698, 'about': 0.0011287389477644698, 'John': 0.0011287389477644698, 'Although': 0.0010033235091239732, 'after': 0.0010033235091239732, 'On': 0.0010033235091239732, 'which': 0.0009406157898037248, 'While': 0.0009406157898037248, 'between': 0.0009406157898037248, 'Roger': 0.0009406157898037248, 'Secretary': 0.0008779080704834765, 'when': 0.0008779080704834765, 'wrote': 0.0008779080704834765, 'where': 0.0008152003511632282, 'if': 0.0007524926318429799, 'because': 0.0007524926318429799, 'kill': 0.0006897849125227316, 'Donald': 0.0006270771932024832, 'Stephen': 0.0006270771932024832, 'Laden': 0.0005643694738822349, 'while': 0.0005643694738822349, 'When': 0.0005643694738822349, 'within': 0.0005016617545619866, 'met': 0.0005016617545619866, 'its': 0.0005016617545619866, 'including': 0.0005016617545619866, 'but': 0.0005016617545619866, 'told': 0.0005016617545619866, 'what': 0.00043895403524173826, 'But': 0.00043895403524173826, 'other': 0.00043895403524173826, 'killing': 0.00043895403524173826, 'Inside': 0.00043895403524173826, 're': 0.00043895403524173826, 'As': 0.0003762463159214899, 'all': 0.0003762463159214899, 'some': 0.0003762463159214899, 'into': 0.0003762463159214899, 'left': 0.0003762463159214899, 'President': 0.0003762463159214899, 'one': 0.0003762463159214899, 'Prince': 0.0003762463159214899, 'whether': 0.0003762463159214899, 'former': 0.0003135385966012416, 'how': 0.0003135385966012416, 'A': 0.0003135385966012416, 'State': 0.0003135385966012416, 'two': 0.0003135385966012416, 'named': 0.0003135385966012416, 'sent': 0.0003135385966012416, 'before': 0.0003135385966012416, 'After': 0.0003135385966012416, 'Both': 0.0003135385966012416, 'identified': 0.0003135385966012416, 'help': 0.0002508308772809933, 'described': 0.0002508308772809933, 'Though': 0.0002508308772809933, 'An': 0.0002508308772809933, 'was': 0.0002508308772809933, 'up': 0.0002508308772809933, 'If': 0.0002508308772809933, 'get': 0.0002508308772809933, 'new': 0.0002508308772809933, 'his': 0.0002508308772809933, 'either': 0.0002508308772809933, 'Against': 0.0002508308772809933, 'both': 0.00018812315796074496, 'were': 0.00018812315796074496, 'local': 0.00018812315796074496, 'did': 0.00018812315796074496, 'use': 0.00018812315796074496, 'Yet': 0.00018812315796074496, 'accompanied': 0.00018812315796074496, 'put': 0.00018812315796074496, 'over': 0.00018812315796074496, 'lah': 0.00018812315796074496, '1998': 0.00018812315796074496, 'reported': 0.00018812315796074496, 'used': 0.00018812315796074496, 'like': 0.00018812315796074496, 'There': 0.00018812315796074496, 'thought': 0.00018812315796074496, 'ask': 0.00018812315796074496, 'find': 0.00018812315796074496, 'Neither': 0.00018812315796074496, 'who': 0.00018812315796074496, 'meet': 0.00018812315796074496, 'another': 0.00018812315796074496, 'Two': 0.00018812315796074496, 'no': 0.00018812315796074496, 'only': 0.00018812315796074496, 'though': 0.00018812315796074496, 'be': 0.00018812315796074496, 'Charles': 0.00018812315796074496, 'Among': 0.00018812315796074496, 'internal': 0.00018812315796074496, 'once': 0.00012541543864049665, 'Dick': 0.00012541543864049665, 'commit': 0.00012541543864049665, 'e': 0.00012541543864049665, 'three': 0.00012541543864049665, 'That': 0.00012541543864049665, 'make': 0.00012541543864049665, 'bring': 0.00012541543864049665, 'using': 0.00012541543864049665, '2001': 0.00012541543864049665, 'every': 0.00012541543864049665, 'why': 0.00012541543864049665, 'joined': 0.00012541543864049665, 'nor': 0.00012541543864049665, 'extreme': 0.00012541543864049665, 'violent': 0.00012541543864049665, 'And': 0.00012541543864049665, 'time': 0.00012541543864049665, 'through': 0.00012541543864049665, 'ordered': 0.00012541543864049665, 'top': 0.00012541543864049665, 'attack': 0.00012541543864049665, 'want': 0.00012541543864049665, 'saw': 0.00012541543864049665, 'out': 0.00012541543864049665, 'keep': 0.00012541543864049665, 'lead': 0.00012541543864049665, 'informed': 0.00012541543864049665, 'hit': 0.00012541543864049665, 'mentioned': 0.00012541543864049665, '12': 0.00012541543864049665, 'leader': 0.00012541543864049665, 'name': 0.00012541543864049665, 'had': 0.00012541543864049665, 'probably': 0.00012541543864049665, 'called': 0.00012541543864049665, 'until': 0.00012541543864049665, 'linked': 0.00012541543864049665, 'is': 0.00012541543864049665, 'turn': 0.00012541543864049665, 'heard': 0.00012541543864049665, 'known': 0.00012541543864049665, 'although': 0.00012541543864049665, 'No': 0.00012541543864049665, 'many': 0.00012541543864049665, 'fact': 0.00012541543864049665, 'ing': 0.00012541543864049665, 'Susan': 0.00012541543864049665, 'New': 0.00012541543864049665, 'Staff': 0.00012541543864049665, 'own': 6.270771932024833e-05, 'few': 6.270771932024833e-05, 'conduct': 6.270771932024833e-05, 'can': 6.270771932024833e-05, 'requires': 6.270771932024833e-05, 'current': 6.270771932024833e-05, 'reports': 6.270771932024833e-05, 'am': 6.270771932024833e-05, 'valued': 6.270771932024833e-05, 'Most': 6.270771932024833e-05, 'regular': 6.270771932024833e-05, '¢': 6.270771932024833e-05, 'outside': 6.270771932024833e-05, 'director': 6.270771932024833e-05, 'Director': 6.270771932024833e-05, 'Plan': 6.270771932024833e-05, 'andy': 6.270771932024833e-05, 'certain': 6.270771932024833e-05, 'support': 6.270771932024833e-05, 'At': 6.270771932024833e-05, 'even': 6.270771932024833e-05, '°': 6.270771932024833e-05, 'Several': 6.270771932024833e-05, 'relevant': 6.270771932024833e-05, 'updated': 6.270771932024833e-05, 'Individual': 6.270771932024833e-05, 'recent': 6.270771932024833e-05, '1983': 6.270771932024833e-05, '1988': 6.270771932024833e-05, 'true': 6.270771932024833e-05, 'ian': 6.270771932024833e-05, 'let': 6.270771932024833e-05, 'among': 6.270771932024833e-05, 'Then': 6.270771932024833e-05, 'everything': 6.270771932024833e-05, 'counter': 6.270771932024833e-05, 'unless': 6.270771932024833e-05, 'our': 6.270771932024833e-05, 'hand': 6.270771932024833e-05, 'testing': 6.270771932024833e-05, 'grab': 6.270771932024833e-05, 'target': 6.270771932024833e-05, 'hold': 6.270771932024833e-05, 'track': 6.270771932024833e-05, 'strike': 6.270771932024833e-05, 'down': 6.270771932024833e-05, 'us': 6.270771932024833e-05, 'aid': 6.270771932024833e-05, 'important': 6.270771932024833e-05, 'Senior': 6.270771932024833e-05, 'led': 6.270771932024833e-05, 'Missing': 6.270771932024833e-05, 'abuse': 6.270771932024833e-05, 'warn': 6.270771932024833e-05, 'sensitive': 6.270771932024833e-05, 'seen': 6.270771932024833e-05, 'inspired': 6.270771932024833e-05, 'radical': 6.270771932024833e-05, 'ers': 6.270771932024833e-05, 'plus': 6.270771932024833e-05, 'bringing': 6.270771932024833e-05, 'press': 6.270771932024833e-05, 'just': 6.270771932024833e-05, 'contact': 6.270771932024833e-05, 'core': 6.270771932024833e-05, 'four': 6.270771932024833e-05, 'getting': 6.270771932024833e-05, 'With': 6.270771932024833e-05, 'thing': 6.270771932024833e-05, 'allowed': 6.270771932024833e-05, 'register': 6.270771932024833e-05, 'To': 6.270771932024833e-05, 'any': 6.270771932024833e-05, 'Defense': 6.270771932024833e-05, 'connected': 6.270771932024833e-05, 'issues': 6.270771932024833e-05, 'give': 6.270771932024833e-05, 'Why': 6.270771932024833e-05, 'tered': 6.270771932024833e-05, 'Since': 6.270771932024833e-05, 'have': 6.270771932024833e-05, 'Where': 6.270771932024833e-05, 'wired': 6.270771932024833e-05, 'Some': 6.270771932024833e-05, 'brother': 6.270771932024833e-05, 'atives': 6.270771932024833e-05, 'asking': 6.270771932024833e-05, 'so': 6.270771932024833e-05, 'send': 6.270771932024833e-05, 'having': 6.270771932024833e-05, 'old': 6.270771932024833e-05, 'more': 6.270771932024833e-05, 'general': 6.270771932024833e-05, 'stop': 6.270771932024833e-05, 'Perhaps': 6.270771932024833e-05, 'said': 6.270771932024833e-05, 'placed': 6.270771932024833e-05, 'same': 6.270771932024833e-05, 'making': 6.270771932024833e-05, 'answer': 6.270771932024833e-05, 'keeping': 6.270771932024833e-05, 'intelligence': 6.270771932024833e-05, 'Because': 6.270771932024833e-05, 'Many': 6.270771932024833e-05, 'third': 6.270771932024833e-05, 'first': 6.270771932024833e-05, 'second': 6.270771932024833e-05, 'One': 6.270771932024833e-05, 'telling': 6.270771932024833e-05, 'est': 6.270771932024833e-05, 'Other': 6.270771932024833e-05, 'group': 6.270771932024833e-05, 'under': 6.270771932024833e-05, 'These': 6.270771932024833e-05, 'Palestinian': 6.270771932024833e-05, 'Between': 6.270771932024833e-05, 'tracking': 6.270771932024833e-05, 'inside': 6.270771932024833e-05, 'ous': 6.270771932024833e-05, 'trained': 6.270771932024833e-05, 'combat': 6.270771932024833e-05, 'illegal': 6.270771932024833e-05, 'Senator': 6.270771932024833e-05, 'him': 6.270771932024833e-05, 'early': 6.270771932024833e-05, 'since': 6.270771932024833e-05, 'Major': 6.270771932024833e-05, 'close': 6.270771932024833e-05, '1994': 6.270771932024833e-05, '390': 6.270771932024833e-05, 'take': 6.270771932024833e-05, '.': 6.270771932024833e-05, 'render': 6.270771932024833e-05, '5': 6.270771932024833e-05, 'should': 6.270771932024833e-05, 'seeking': 6.270771932024833e-05, 'names': 6.270771932024833e-05, 'are': 6.270771932024833e-05, 'paid': 6.270771932024833e-05, 'daily': 6.270771932024833e-05, 'drive': 6.270771932024833e-05, 'likely': 6.270771932024833e-05, 'Bomb': 6.270771932024833e-05, 'been': 6.270771932024833e-05, 'House': 6.270771932024833e-05, 'received': 6.270771932024833e-05, 'In': 6.270771932024833e-05, 'provided': 6.270771932024833e-05, 'place': 6.270771932024833e-05, 'come': 6.270771932024833e-05, 'day': 6.270771932024833e-05, 'seeing': 6.270771932024833e-05, 'Whereas': 6.270771932024833e-05, 'joining': 6.270771932024833e-05, 'Phoenix': 6.270771932024833e-05, 'Another': 6.270771932024833e-05, 'iting': 6.270771932024833e-05, 'show': 6.270771932024833e-05, 'report': 6.270771932024833e-05, ';': 6.270771932024833e-05, 'behind': 6.270771932024833e-05, 'contained': 6.270771932024833e-05, 'assisted': 6.270771932024833e-05, ',': 6.270771932024833e-05, 'pressed': 6.270771932024833e-05, 'Proof': 6.270771932024833e-05}\n",
            "[0.11801592776070734, 0.05675048598482473, 0.04910014422775444, 0.04621558913902302, 0.04558851194582053, 0.04339374176961184, 0.034551953345456826, 0.02313914842917163, 0.022825609832570388, 0.022386655797328653, 0.022010409481407162, 0.02125791684956418, 0.019878347024518718, 0.01937668526995673, 0.016680253339186053, 0.01530068351414059, 0.013670282811814134, 0.012792374741330657, 0.012102589828807925, 0.01122468175832445, 0.011036558600363705, 0.010221358249200476, 0.009970527371919483, 0.009594281055997994, 0.00896720386279551, 0.008904496143475263, 0.00865366526619427, 0.00859095754687402, 0.008277418950272779, 0.00783846491503104, 0.007023264563867812, 0.00670972596726657, 0.006584310528626074, 0.006521602809305826, 0.006270771932024832, 0.006208064212704584, 0.005831817896783094, 0.005706402458142597, 0.0055809870195021, 0.0055809870195021, 0.005267448422900859, 0.005079325264940114, 0.0049539098262996175, 0.004891202106979369, 0.004828494387659121, 0.004828494387659121, 0.004640371229698376, 0.004326832633097135, 0.004201417194456637, 0.004013294036495893, 0.003887878597855396, 0.0038251708785351475, 0.0037624631592148993, 0.0037624631592148993, 0.003699755439894651, 0.003699755439894651, 0.0036370477205744027, 0.0036370477205744027, 0.0033862168432934095, 0.0033862168432934095, 0.003260801404652913, 0.0031980936853326643, 0.003135385966012416, 0.0030726782466921677, 0.0030726782466921677, 0.0030726782466921677, 0.0030726782466921677, 0.0030726782466921677, 0.0030099705273719194, 0.002884555088731423, 0.002884555088731423, 0.002696431930770678, 0.002696431930770678, 0.002696431930770678, 0.002696431930770678, 0.002696431930770678, 0.0026337242114504297, 0.0025083087728099327, 0.002320185614849188, 0.002320185614849188, 0.0021947701762086913, 0.0021947701762086913, 0.0021947701762086913, 0.002132062456888443, 0.002132062456888443, 0.001943939298927698, 0.001943939298927698, 0.0016931084216467048, 0.0016931084216467048, 0.0016304007023264565, 0.0013168621057252148, 0.0013168621057252148, 0.0011287389477644698, 0.0011287389477644698, 0.0011287389477644698, 0.0010033235091239732, 0.0010033235091239732, 0.0010033235091239732, 0.0009406157898037248, 0.0009406157898037248, 0.0009406157898037248, 0.0009406157898037248, 0.0008779080704834765, 0.0008779080704834765, 0.0008779080704834765, 0.0008152003511632282, 0.0007524926318429799, 0.0007524926318429799, 0.0006897849125227316, 0.0006270771932024832, 0.0006270771932024832, 0.0005643694738822349, 0.0005643694738822349, 0.0005643694738822349, 0.0005016617545619866, 0.0005016617545619866, 0.0005016617545619866, 0.0005016617545619866, 0.0005016617545619866, 0.0005016617545619866, 0.00043895403524173826, 0.00043895403524173826, 0.00043895403524173826, 0.00043895403524173826, 0.00043895403524173826, 0.00043895403524173826, 0.0003762463159214899, 0.0003762463159214899, 0.0003762463159214899, 0.0003762463159214899, 0.0003762463159214899, 0.0003762463159214899, 0.0003762463159214899, 0.0003762463159214899, 0.0003762463159214899, 0.0003135385966012416, 0.0003135385966012416, 0.0003135385966012416, 0.0003135385966012416, 0.0003135385966012416, 0.0003135385966012416, 0.0003135385966012416, 0.0003135385966012416, 0.0003135385966012416, 0.0003135385966012416, 0.0003135385966012416, 0.0002508308772809933, 0.0002508308772809933, 0.0002508308772809933, 0.0002508308772809933, 0.0002508308772809933, 0.0002508308772809933, 0.0002508308772809933, 0.0002508308772809933, 0.0002508308772809933, 0.0002508308772809933, 0.0002508308772809933, 0.0002508308772809933, 0.00018812315796074496, 0.00018812315796074496, 0.00018812315796074496, 0.00018812315796074496, 0.00018812315796074496, 0.00018812315796074496, 0.00018812315796074496, 0.00018812315796074496, 0.00018812315796074496, 0.00018812315796074496, 0.00018812315796074496, 0.00018812315796074496, 0.00018812315796074496, 0.00018812315796074496, 0.00018812315796074496, 0.00018812315796074496, 0.00018812315796074496, 0.00018812315796074496, 0.00018812315796074496, 0.00018812315796074496, 0.00018812315796074496, 0.00018812315796074496, 0.00018812315796074496, 0.00018812315796074496, 0.00018812315796074496, 0.00018812315796074496, 0.00018812315796074496, 0.00018812315796074496, 0.00018812315796074496, 0.00018812315796074496, 0.00012541543864049665, 0.00012541543864049665, 0.00012541543864049665, 0.00012541543864049665, 0.00012541543864049665, 0.00012541543864049665, 0.00012541543864049665, 0.00012541543864049665, 0.00012541543864049665, 0.00012541543864049665, 0.00012541543864049665, 0.00012541543864049665, 0.00012541543864049665, 0.00012541543864049665, 0.00012541543864049665, 0.00012541543864049665, 0.00012541543864049665, 0.00012541543864049665, 0.00012541543864049665, 0.00012541543864049665, 0.00012541543864049665, 0.00012541543864049665, 0.00012541543864049665, 0.00012541543864049665, 0.00012541543864049665, 0.00012541543864049665, 0.00012541543864049665, 0.00012541543864049665, 0.00012541543864049665, 0.00012541543864049665, 0.00012541543864049665, 0.00012541543864049665, 0.00012541543864049665, 0.00012541543864049665, 0.00012541543864049665, 0.00012541543864049665, 0.00012541543864049665, 0.00012541543864049665, 0.00012541543864049665, 0.00012541543864049665, 0.00012541543864049665, 0.00012541543864049665, 0.00012541543864049665, 0.00012541543864049665, 0.00012541543864049665, 0.00012541543864049665, 0.00012541543864049665, 0.00012541543864049665, 0.00012541543864049665, 0.00012541543864049665, 6.270771932024833e-05, 6.270771932024833e-05, 6.270771932024833e-05, 6.270771932024833e-05, 6.270771932024833e-05, 6.270771932024833e-05, 6.270771932024833e-05, 6.270771932024833e-05, 6.270771932024833e-05, 6.270771932024833e-05, 6.270771932024833e-05, 6.270771932024833e-05, 6.270771932024833e-05, 6.270771932024833e-05, 6.270771932024833e-05, 6.270771932024833e-05, 6.270771932024833e-05, 6.270771932024833e-05, 6.270771932024833e-05, 6.270771932024833e-05, 6.270771932024833e-05, 6.270771932024833e-05, 6.270771932024833e-05, 6.270771932024833e-05, 6.270771932024833e-05, 6.270771932024833e-05, 6.270771932024833e-05, 6.270771932024833e-05, 6.270771932024833e-05, 6.270771932024833e-05, 6.270771932024833e-05, 6.270771932024833e-05, 6.270771932024833e-05, 6.270771932024833e-05, 6.270771932024833e-05, 6.270771932024833e-05, 6.270771932024833e-05, 6.270771932024833e-05, 6.270771932024833e-05, 6.270771932024833e-05, 6.270771932024833e-05, 6.270771932024833e-05, 6.270771932024833e-05, 6.270771932024833e-05, 6.270771932024833e-05, 6.270771932024833e-05, 6.270771932024833e-05, 6.270771932024833e-05, 6.270771932024833e-05, 6.270771932024833e-05, 6.270771932024833e-05, 6.270771932024833e-05, 6.270771932024833e-05, 6.270771932024833e-05, 6.270771932024833e-05, 6.270771932024833e-05, 6.270771932024833e-05, 6.270771932024833e-05, 6.270771932024833e-05, 6.270771932024833e-05, 6.270771932024833e-05, 6.270771932024833e-05, 6.270771932024833e-05, 6.270771932024833e-05, 6.270771932024833e-05, 6.270771932024833e-05, 6.270771932024833e-05, 6.270771932024833e-05, 6.270771932024833e-05, 6.270771932024833e-05, 6.270771932024833e-05, 6.270771932024833e-05, 6.270771932024833e-05, 6.270771932024833e-05, 6.270771932024833e-05, 6.270771932024833e-05, 6.270771932024833e-05, 6.270771932024833e-05, 6.270771932024833e-05, 6.270771932024833e-05, 6.270771932024833e-05, 6.270771932024833e-05, 6.270771932024833e-05, 6.270771932024833e-05, 6.270771932024833e-05, 6.270771932024833e-05, 6.270771932024833e-05, 6.270771932024833e-05, 6.270771932024833e-05, 6.270771932024833e-05, 6.270771932024833e-05, 6.270771932024833e-05, 6.270771932024833e-05, 6.270771932024833e-05, 6.270771932024833e-05, 6.270771932024833e-05, 6.270771932024833e-05, 6.270771932024833e-05, 6.270771932024833e-05, 6.270771932024833e-05, 6.270771932024833e-05, 6.270771932024833e-05, 6.270771932024833e-05, 6.270771932024833e-05, 6.270771932024833e-05, 6.270771932024833e-05, 6.270771932024833e-05, 6.270771932024833e-05, 6.270771932024833e-05, 6.270771932024833e-05, 6.270771932024833e-05, 6.270771932024833e-05, 6.270771932024833e-05, 6.270771932024833e-05, 6.270771932024833e-05, 6.270771932024833e-05, 6.270771932024833e-05, 6.270771932024833e-05, 6.270771932024833e-05, 6.270771932024833e-05, 6.270771932024833e-05, 6.270771932024833e-05, 6.270771932024833e-05, 6.270771932024833e-05, 6.270771932024833e-05, 6.270771932024833e-05, 6.270771932024833e-05, 6.270771932024833e-05, 6.270771932024833e-05, 6.270771932024833e-05, 6.270771932024833e-05, 6.270771932024833e-05, 6.270771932024833e-05, 6.270771932024833e-05, 6.270771932024833e-05, 6.270771932024833e-05, 6.270771932024833e-05, 6.270771932024833e-05, 6.270771932024833e-05, 6.270771932024833e-05, 6.270771932024833e-05, 6.270771932024833e-05, 6.270771932024833e-05, 6.270771932024833e-05, 6.270771932024833e-05, 6.270771932024833e-05, 6.270771932024833e-05, 6.270771932024833e-05, 6.270771932024833e-05, 6.270771932024833e-05, 6.270771932024833e-05, 6.270771932024833e-05, 6.270771932024833e-05, 6.270771932024833e-05, 6.270771932024833e-05, 6.270771932024833e-05, 6.270771932024833e-05, 6.270771932024833e-05, 6.270771932024833e-05, 6.270771932024833e-05, 6.270771932024833e-05, 6.270771932024833e-05, 6.270771932024833e-05, 6.270771932024833e-05, 6.270771932024833e-05, 6.270771932024833e-05]\n",
            "0.46196776823226937\n",
            "404 distinct labels, 15947 lines; 39.472772277227726 lines per label \n"
          ]
        }
      ]
    }
  ],
  "metadata": {
    "colab": {
      "provenance": []
    },
    "kernelspec": {
      "display_name": "Python 3",
      "name": "python3"
    },
    "language_info": {
      "name": "python"
    }
  },
  "nbformat": 4,
  "nbformat_minor": 0
}